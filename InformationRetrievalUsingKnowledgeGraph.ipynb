{
  "nbformat": 4,
  "nbformat_minor": 0,
  "metadata": {
    "colab": {
      "provenance": [],
      "gpuType": "T4"
    },
    "kernelspec": {
      "name": "python3",
      "display_name": "Python 3"
    },
    "language_info": {
      "name": "python"
    },
    "accelerator": "GPU",
    "widgets": {
      "application/vnd.jupyter.widget-state+json": {
        "039378d0f97149d1884c21aeccd4e6f4": {
          "model_module": "yfiles-jupyter-graphs",
          "model_name": "GraphModel",
          "model_module_version": "^1.10.1",
          "state": {
            "_context_pane_mapping": [
              {
                "id": "Neighborhood",
                "title": "Neighborhood"
              },
              {
                "id": "Data",
                "title": "Data"
              },
              {
                "id": "Search",
                "title": "Search"
              },
              {
                "id": "About",
                "title": "About"
              }
            ],
            "_data_importer": "neo4j",
            "_directed": true,
            "_dom_classes": [],
            "_edges": [
              {
                "id": 1152922604118474800,
                "start": 2,
                "end": 1,
                "properties": {
                  "label": "HEAD_OF_STATE"
                },
                "color": "#4CAF50",
                "thickness_factor": 1,
                "directed": true,
                "styles": {},
                "label": "HEAD_OF_STATE"
              },
              {
                "id": 1152923703630102500,
                "start": 2,
                "end": 1,
                "properties": {
                  "label": "HEAD_OF_GOVERNMENT"
                },
                "color": "#F44336",
                "thickness_factor": 1,
                "directed": true,
                "styles": {},
                "label": "HEAD_OF_GOVERNMENT"
              },
              {
                "id": 1152924803141730300,
                "start": 3,
                "end": 2,
                "properties": {
                  "label": "ELECTS"
                },
                "color": "#607D8B",
                "thickness_factor": 1,
                "directed": true,
                "styles": {},
                "label": "ELECTS"
              },
              {
                "id": 1152925902653358000,
                "start": 4,
                "end": 3,
                "properties": {
                  "label": "WON_VOTE"
                },
                "color": "#673AB7",
                "thickness_factor": 1,
                "directed": true,
                "styles": {},
                "label": "WON_VOTE"
              },
              {
                "id": 6917544420803871000,
                "start": 4,
                "end": 24,
                "properties": {
                  "label": "UNAFFILIATED"
                },
                "color": "#CDDC39",
                "thickness_factor": 1,
                "directed": true,
                "styles": {},
                "label": "UNAFFILIATED"
              },
              {
                "id": 1152944594351030300,
                "start": 4,
                "end": 56,
                "properties": {
                  "label": "ATTENDED"
                },
                "color": "#9E9E9E",
                "thickness_factor": 1,
                "directed": true,
                "styles": {},
                "label": "ATTENDED"
              },
              {
                "id": 1152927002164985900,
                "start": 5,
                "end": 2,
                "properties": {
                  "label": "INCUMBENT"
                },
                "color": "#9C27B0",
                "thickness_factor": 1,
                "directed": true,
                "styles": {},
                "label": "INCUMBENT"
              },
              {
                "id": 6917535624710849000,
                "start": 5,
                "end": 19,
                "properties": {
                  "label": "ASSUMED_OFFICE"
                },
                "color": "#2196F3",
                "thickness_factor": 1,
                "directed": true,
                "styles": {},
                "label": "ASSUMED_OFFICE"
              },
              {
                "id": 1152929201188241400,
                "start": 7,
                "end": 2,
                "properties": {
                  "label": "SHORTEST_TERM"
                },
                "color": "#4CAF50",
                "thickness_factor": 1,
                "directed": true,
                "styles": {},
                "label": "SHORTEST_TERM"
              },
              {
                "id": 6917540022757360000,
                "start": 7,
                "end": 21,
                "properties": {
                  "label": "DIED_IN_OFFICE"
                },
                "color": "#F44336",
                "thickness_factor": 1,
                "directed": true,
                "styles": {},
                "label": "DIED_IN_OFFICE"
              },
              {
                "id": 1152944594351030300,
                "start": 7,
                "end": 57,
                "properties": {
                  "label": "ATTENDED"
                },
                "color": "#9E9E9E",
                "thickness_factor": 1,
                "directed": true,
                "styles": {},
                "label": "ATTENDED"
              },
              {
                "id": 1155196394164715500,
                "start": 7,
                "end": 58,
                "properties": {
                  "label": "ATTENDED"
                },
                "color": "#9E9E9E",
                "thickness_factor": 1,
                "directed": true,
                "styles": {},
                "label": "ATTENDED"
              },
              {
                "id": 1152930300699869200,
                "start": 8,
                "end": 2,
                "properties": {
                  "label": "LONGEST_TERM"
                },
                "color": "#607D8B",
                "thickness_factor": 1,
                "directed": true,
                "styles": {},
                "label": "LONGEST_TERM"
              },
              {
                "id": 6917538923245732000,
                "start": 8,
                "end": 20,
                "properties": {
                  "label": "FIRST_TO_SERVE_MORE_THAN_TWO_TERMS"
                },
                "color": "#673AB7",
                "thickness_factor": 1,
                "directed": true,
                "styles": {},
                "label": "FIRST_TO_SERVE_MORE_THAN_TWO_TERMS"
              },
              {
                "id": 6924295422198415000,
                "start": 8,
                "end": 21,
                "properties": {
                  "label": "DIED_IN_OFFICE"
                },
                "color": "#F44336",
                "thickness_factor": 1,
                "directed": true,
                "styles": {},
                "label": "DIED_IN_OFFICE"
              },
              {
                "id": 6919791822571045000,
                "start": 9,
                "end": 21,
                "properties": {
                  "label": "DIED_IN_OFFICE"
                },
                "color": "#F44336",
                "thickness_factor": 1,
                "directed": true,
                "styles": {},
                "label": "DIED_IN_OFFICE"
              },
              {
                "id": 6922043622384730000,
                "start": 10,
                "end": 21,
                "properties": {
                  "label": "DIED_IN_OFFICE"
                },
                "color": "#F44336",
                "thickness_factor": 1,
                "directed": true,
                "styles": {},
                "label": "DIED_IN_OFFICE"
              },
              {
                "id": 6917540022757360000,
                "start": 11,
                "end": 22,
                "properties": {
                  "label": "DIED_IN_OFFICE"
                },
                "color": "#F44336",
                "thickness_factor": 1,
                "directed": true,
                "styles": {},
                "label": "DIED_IN_OFFICE"
              },
              {
                "id": 6919791822571045000,
                "start": 12,
                "end": 22,
                "properties": {
                  "label": "DIED_IN_OFFICE"
                },
                "color": "#F44336",
                "thickness_factor": 1,
                "directed": true,
                "styles": {},
                "label": "DIED_IN_OFFICE"
              },
              {
                "id": 6922043622384730000,
                "start": 13,
                "end": 22,
                "properties": {
                  "label": "DIED_IN_OFFICE"
                },
                "color": "#F44336",
                "thickness_factor": 1,
                "directed": true,
                "styles": {},
                "label": "DIED_IN_OFFICE"
              },
              {
                "id": 1152944594351030300,
                "start": 13,
                "end": 60,
                "properties": {
                  "label": "ATTENDED"
                },
                "color": "#9E9E9E",
                "thickness_factor": 1,
                "directed": true,
                "styles": {},
                "label": "ATTENDED"
              },
              {
                "id": 1155196394164715500,
                "start": 13,
                "end": 61,
                "properties": {
                  "label": "ATTENDED"
                },
                "color": "#9E9E9E",
                "thickness_factor": 1,
                "directed": true,
                "styles": {},
                "label": "ATTENDED"
              },
              {
                "id": 6924295422198415000,
                "start": 14,
                "end": 22,
                "properties": {
                  "label": "DIED_IN_OFFICE"
                },
                "color": "#F44336",
                "thickness_factor": 1,
                "directed": true,
                "styles": {},
                "label": "DIED_IN_OFFICE"
              },
              {
                "id": 6917541122268987000,
                "start": 15,
                "end": 23,
                "properties": {
                  "label": "RESIGNED"
                },
                "color": "#CDDC39",
                "thickness_factor": 1,
                "directed": true,
                "styles": {},
                "label": "RESIGNED"
              },
              {
                "id": 1152934698746380300,
                "start": 16,
                "end": 2,
                "properties": {
                  "label": "ASSUMED_PRESIDENCY"
                },
                "color": "#9E9E9E",
                "thickness_factor": 1,
                "directed": true,
                "styles": {},
                "label": "ASSUMED_PRESIDENCY"
              },
              {
                "id": 6917543321292243000,
                "start": 17,
                "end": 24,
                "properties": {
                  "label": "RALLIED_AROUND"
                },
                "color": "#9C27B0",
                "thickness_factor": 1,
                "directed": true,
                "styles": {},
                "label": "RALLIED_AROUND"
              },
              {
                "id": 6919795121105928000,
                "start": 18,
                "end": 24,
                "properties": {
                  "label": "RALLIED_AROUND"
                },
                "color": "#9C27B0",
                "thickness_factor": 1,
                "directed": true,
                "styles": {},
                "label": "RALLIED_AROUND"
              },
              {
                "id": 1152941295816147000,
                "start": 18,
                "end": 37,
                "properties": {
                  "label": "RELATED_TO"
                },
                "color": "#2196F3",
                "thickness_factor": 1,
                "directed": true,
                "styles": {},
                "label": "RELATED_TO"
              },
              {
                "id": 6919809414757089000,
                "start": 18,
                "end": 79,
                "properties": {
                  "label": "DID_NOT_ATTEND"
                },
                "color": "#4CAF50",
                "thickness_factor": 1,
                "directed": true,
                "styles": {},
                "label": "DID_NOT_ATTEND"
              },
              {
                "id": 6917545520315498000,
                "start": 26,
                "end": 27,
                "properties": {
                  "label": "NEVER_AFFILIATED_WITH"
                },
                "color": "#F44336",
                "thickness_factor": 1,
                "directed": true,
                "styles": {},
                "label": "NEVER_AFFILIATED_WITH"
              },
              {
                "id": 1152939096792891400,
                "start": 29,
                "end": 1,
                "properties": {
                  "label": "PART_OF"
                },
                "color": "#607D8B",
                "thickness_factor": 1,
                "directed": true,
                "styles": {},
                "label": "PART_OF"
              },
              {
                "id": 1152940196304519200,
                "start": 30,
                "end": 29,
                "properties": {
                  "label": "HOLD"
                },
                "color": "#673AB7",
                "thickness_factor": 1,
                "directed": true,
                "styles": {},
                "label": "HOLD"
              },
              {
                "id": 1152940196304519200,
                "start": 31,
                "end": 29,
                "properties": {
                  "label": "HOLD"
                },
                "color": "#673AB7",
                "thickness_factor": 1,
                "directed": true,
                "styles": {},
                "label": "HOLD"
              },
              {
                "id": 1152940196304519200,
                "start": 32,
                "end": 29,
                "properties": {
                  "label": "HOLD"
                },
                "color": "#673AB7",
                "thickness_factor": 1,
                "directed": true,
                "styles": {},
                "label": "HOLD"
              },
              {
                "id": 1152941295816147000,
                "start": 33,
                "end": 37,
                "properties": {
                  "label": "RELATED_TO"
                },
                "color": "#2196F3",
                "thickness_factor": 1,
                "directed": true,
                "styles": {},
                "label": "RELATED_TO"
              },
              {
                "id": 1152942395327774700,
                "start": 34,
                "end": 38,
                "properties": {
                  "label": "ACTED_AS"
                },
                "color": "#CDDC39",
                "thickness_factor": 1,
                "directed": true,
                "styles": {},
                "label": "ACTED_AS"
              },
              {
                "id": 1152942395327774700,
                "start": 35,
                "end": 38,
                "properties": {
                  "label": "ACTED_AS"
                },
                "color": "#CDDC39",
                "thickness_factor": 1,
                "directed": true,
                "styles": {},
                "label": "ACTED_AS"
              },
              {
                "id": 1152942395327774700,
                "start": 36,
                "end": 38,
                "properties": {
                  "label": "ACTED_AS"
                },
                "color": "#CDDC39",
                "thickness_factor": 1,
                "directed": true,
                "styles": {},
                "label": "ACTED_AS"
              },
              {
                "id": 1152943494839402500,
                "start": 40,
                "end": 41,
                "properties": {
                  "label": "SEE_ALSO"
                },
                "color": "#9E9E9E",
                "thickness_factor": 1,
                "directed": true,
                "styles": {},
                "label": "SEE_ALSO"
              },
              {
                "id": 1155195294653087700,
                "start": 40,
                "end": 42,
                "properties": {
                  "label": "SEE_ALSO"
                },
                "color": "#9E9E9E",
                "thickness_factor": 1,
                "directed": true,
                "styles": {},
                "label": "SEE_ALSO"
              },
              {
                "id": 1157447094466773000,
                "start": 40,
                "end": 43,
                "properties": {
                  "label": "SEE_ALSO"
                },
                "color": "#9E9E9E",
                "thickness_factor": 1,
                "directed": true,
                "styles": {},
                "label": "SEE_ALSO"
              },
              {
                "id": 1159698894280458200,
                "start": 40,
                "end": 44,
                "properties": {
                  "label": "SEE_ALSO"
                },
                "color": "#9E9E9E",
                "thickness_factor": 1,
                "directed": true,
                "styles": {},
                "label": "SEE_ALSO"
              },
              {
                "id": 1161950694094143500,
                "start": 40,
                "end": 45,
                "properties": {
                  "label": "SEE_ALSO"
                },
                "color": "#9E9E9E",
                "thickness_factor": 1,
                "directed": true,
                "styles": {},
                "label": "SEE_ALSO"
              },
              {
                "id": 1152944594351030300,
                "start": 47,
                "end": 56,
                "properties": {
                  "label": "ATTENDED"
                },
                "color": "#9E9E9E",
                "thickness_factor": 1,
                "directed": true,
                "styles": {},
                "label": "ATTENDED"
              },
              {
                "id": 1152945693862658000,
                "start": 50,
                "end": 59,
                "properties": {
                  "label": "FOUNDED"
                },
                "color": "#9C27B0",
                "thickness_factor": 1,
                "directed": true,
                "styles": {},
                "label": "FOUNDED"
              },
              {
                "id": 6917552117385265000,
                "start": 52,
                "end": 64,
                "properties": {
                  "label": "ATTENDED"
                },
                "color": "#9E9E9E",
                "thickness_factor": 1,
                "directed": true,
                "styles": {},
                "label": "ATTENDED"
              },
              {
                "id": 1152944594351030300,
                "start": 53,
                "end": 55,
                "properties": {
                  "label": "ATTENDED"
                },
                "color": "#9E9E9E",
                "thickness_factor": 1,
                "directed": true,
                "styles": {},
                "label": "ATTENDED"
              },
              {
                "id": 1152944594351030300,
                "start": 54,
                "end": 62,
                "properties": {
                  "label": "ATTENDED"
                },
                "color": "#9E9E9E",
                "thickness_factor": 1,
                "directed": true,
                "styles": {},
                "label": "ATTENDED"
              },
              {
                "id": 1155196394164715500,
                "start": 54,
                "end": 63,
                "properties": {
                  "label": "ATTENDED"
                },
                "color": "#9E9E9E",
                "thickness_factor": 1,
                "directed": true,
                "styles": {},
                "label": "ATTENDED"
              },
              {
                "id": 1152946793374285800,
                "start": 66,
                "end": 63,
                "properties": {
                  "label": "ENROLLED_IN"
                },
                "color": "#2196F3",
                "thickness_factor": 1,
                "directed": true,
                "styles": {},
                "label": "ENROLLED_IN"
              }
            ],
            "_graph_layout": {},
            "_highlight": [],
            "_license": {},
            "_model_module": "yfiles-jupyter-graphs",
            "_model_module_version": "^1.10.1",
            "_model_name": "GraphModel",
            "_neighborhood": {},
            "_nodes": [
              {
                "id": 2,
                "properties": {
                  "id": "President",
                  "label": "__Entity__:Position"
                },
                "color": "#2196F3",
                "styles": {},
                "label": "President",
                "scale_factor": 1,
                "type": "#2196F3",
                "size": [
                  55,
                  55
                ],
                "position": [
                  0,
                  0
                ]
              },
              {
                "id": 1,
                "properties": {
                  "id": "United States",
                  "label": "__Entity__:Country"
                },
                "color": "#4CAF50",
                "styles": {},
                "label": "United States",
                "scale_factor": 1,
                "type": "#4CAF50",
                "size": [
                  55,
                  55
                ],
                "position": [
                  0,
                  0
                ]
              },
              {
                "id": 3,
                "properties": {
                  "id": "Electoral College",
                  "label": "__Entity__:Institution"
                },
                "color": "#F44336",
                "styles": {},
                "label": "Electoral College",
                "scale_factor": 1,
                "type": "#F44336",
                "size": [
                  55,
                  55
                ],
                "position": [
                  0,
                  0
                ]
              },
              {
                "id": 4,
                "properties": {
                  "id": "George Washington",
                  "label": "__Entity__:Person"
                },
                "color": "#607D8B",
                "styles": {},
                "label": "George Washington",
                "scale_factor": 1,
                "type": "#607D8B",
                "size": [
                  55,
                  55
                ],
                "position": [
                  0,
                  0
                ]
              },
              {
                "id": 24,
                "properties": {
                  "id": "Political Factions",
                  "label": "__Entity__"
                },
                "color": "#673AB7",
                "styles": {},
                "label": "Political Factions",
                "scale_factor": 1,
                "type": "#673AB7",
                "size": [
                  55,
                  55
                ],
                "position": [
                  0,
                  0
                ]
              },
              {
                "id": 56,
                "properties": {
                  "id": "College Of William & Mary",
                  "label": "__Entity__:University"
                },
                "color": "#CDDC39",
                "styles": {},
                "label": "College Of William & Mary",
                "scale_factor": 1,
                "type": "#CDDC39",
                "size": [
                  55,
                  55
                ],
                "position": [
                  0,
                  0
                ]
              },
              {
                "id": 5,
                "properties": {
                  "id": "Donald Trump",
                  "label": "__Entity__:Person"
                },
                "color": "#607D8B",
                "styles": {},
                "label": "Donald Trump",
                "scale_factor": 1,
                "type": "#607D8B",
                "size": [
                  55,
                  55
                ],
                "position": [
                  0,
                  0
                ]
              },
              {
                "id": 19,
                "properties": {
                  "id": "January 20, 2025",
                  "label": "__Entity__"
                },
                "color": "#673AB7",
                "styles": {},
                "label": "January 20, 2025",
                "scale_factor": 1,
                "type": "#673AB7",
                "size": [
                  55,
                  55
                ],
                "position": [
                  0,
                  0
                ]
              },
              {
                "id": 7,
                "properties": {
                  "id": "William Henry Harrison",
                  "label": "__Entity__:Person"
                },
                "color": "#607D8B",
                "styles": {},
                "label": "William Henry Harrison",
                "scale_factor": 1,
                "type": "#607D8B",
                "size": [
                  55,
                  55
                ],
                "position": [
                  0,
                  0
                ]
              },
              {
                "id": 21,
                "properties": {
                  "id": "Natural Causes",
                  "label": "__Entity__"
                },
                "color": "#673AB7",
                "styles": {},
                "label": "Natural Causes",
                "scale_factor": 1,
                "type": "#673AB7",
                "size": [
                  55,
                  55
                ],
                "position": [
                  0,
                  0
                ]
              },
              {
                "id": 57,
                "properties": {
                  "id": "Hampden Sydney College",
                  "label": "__Entity__:University"
                },
                "color": "#CDDC39",
                "styles": {},
                "label": "Hampden Sydney College",
                "scale_factor": 1,
                "type": "#CDDC39",
                "size": [
                  55,
                  55
                ],
                "position": [
                  0,
                  0
                ]
              },
              {
                "id": 58,
                "properties": {
                  "id": "University Of Pennsylvania School Of Medicine",
                  "label": "__Entity__:University"
                },
                "color": "#CDDC39",
                "styles": {},
                "label": "University Of Pennsylvania School Of Medicine",
                "scale_factor": 1,
                "type": "#CDDC39",
                "size": [
                  55,
                  55
                ],
                "position": [
                  0,
                  0
                ]
              },
              {
                "id": 8,
                "properties": {
                  "id": "Franklin D. Roosevelt",
                  "label": "__Entity__:Person"
                },
                "color": "#607D8B",
                "styles": {},
                "label": "Franklin D. Roosevelt",
                "scale_factor": 1,
                "type": "#607D8B",
                "size": [
                  55,
                  55
                ],
                "position": [
                  0,
                  0
                ]
              },
              {
                "id": 20,
                "properties": {
                  "id": "Twenty-Second Amendment",
                  "label": "__Entity__"
                },
                "color": "#673AB7",
                "styles": {},
                "label": "Twenty-Second Amendment",
                "scale_factor": 1,
                "type": "#673AB7",
                "size": [
                  55,
                  55
                ],
                "position": [
                  0,
                  0
                ]
              },
              {
                "id": 9,
                "properties": {
                  "id": "Zachary Taylor",
                  "label": "__Entity__:Person"
                },
                "color": "#607D8B",
                "styles": {},
                "label": "Zachary Taylor",
                "scale_factor": 1,
                "type": "#607D8B",
                "size": [
                  55,
                  55
                ],
                "position": [
                  0,
                  0
                ]
              },
              {
                "id": 10,
                "properties": {
                  "id": "Warren G. Harding",
                  "label": "__Entity__:Person"
                },
                "color": "#607D8B",
                "styles": {},
                "label": "Warren G. Harding",
                "scale_factor": 1,
                "type": "#607D8B",
                "size": [
                  55,
                  55
                ],
                "position": [
                  0,
                  0
                ]
              },
              {
                "id": 11,
                "properties": {
                  "id": "Abraham Lincoln",
                  "label": "__Entity__:Person"
                },
                "color": "#607D8B",
                "styles": {},
                "label": "Abraham Lincoln",
                "scale_factor": 1,
                "type": "#607D8B",
                "size": [
                  55,
                  55
                ],
                "position": [
                  0,
                  0
                ]
              },
              {
                "id": 22,
                "properties": {
                  "id": "Assassination",
                  "label": "__Entity__"
                },
                "color": "#673AB7",
                "styles": {},
                "label": "Assassination",
                "scale_factor": 1,
                "type": "#673AB7",
                "size": [
                  55,
                  55
                ],
                "position": [
                  0,
                  0
                ]
              },
              {
                "id": 12,
                "properties": {
                  "id": "James A. Garfield",
                  "label": "__Entity__:Person"
                },
                "color": "#607D8B",
                "styles": {},
                "label": "James A. Garfield",
                "scale_factor": 1,
                "type": "#607D8B",
                "size": [
                  55,
                  55
                ],
                "position": [
                  0,
                  0
                ]
              },
              {
                "id": 13,
                "properties": {
                  "id": "William Mckinley",
                  "label": "__Entity__:Person"
                },
                "color": "#607D8B",
                "styles": {},
                "label": "William Mckinley",
                "scale_factor": 1,
                "type": "#607D8B",
                "size": [
                  55,
                  55
                ],
                "position": [
                  0,
                  0
                ]
              },
              {
                "id": 60,
                "properties": {
                  "id": "Allegheny College",
                  "label": "__Entity__:University"
                },
                "color": "#CDDC39",
                "styles": {},
                "label": "Allegheny College",
                "scale_factor": 1,
                "type": "#CDDC39",
                "size": [
                  55,
                  55
                ],
                "position": [
                  0,
                  0
                ]
              },
              {
                "id": 61,
                "properties": {
                  "id": "Albany Law School",
                  "label": "__Entity__:University"
                },
                "color": "#CDDC39",
                "styles": {},
                "label": "Albany Law School",
                "scale_factor": 1,
                "type": "#CDDC39",
                "size": [
                  55,
                  55
                ],
                "position": [
                  0,
                  0
                ]
              },
              {
                "id": 14,
                "properties": {
                  "id": "John F. Kennedy",
                  "label": "__Entity__:Person"
                },
                "color": "#607D8B",
                "styles": {},
                "label": "John F. Kennedy",
                "scale_factor": 1,
                "type": "#607D8B",
                "size": [
                  55,
                  55
                ],
                "position": [
                  0,
                  0
                ]
              },
              {
                "id": 15,
                "properties": {
                  "id": "Richard Nixon",
                  "label": "__Entity__:Person"
                },
                "color": "#607D8B",
                "styles": {},
                "label": "Richard Nixon",
                "scale_factor": 1,
                "type": "#607D8B",
                "size": [
                  55,
                  55
                ],
                "position": [
                  0,
                  0
                ]
              },
              {
                "id": 23,
                "properties": {
                  "id": "Resignation",
                  "label": "__Entity__"
                },
                "color": "#673AB7",
                "styles": {},
                "label": "Resignation",
                "scale_factor": 1,
                "type": "#673AB7",
                "size": [
                  55,
                  55
                ],
                "position": [
                  0,
                  0
                ]
              },
              {
                "id": 16,
                "properties": {
                  "id": "John Tyler",
                  "label": "__Entity__:Person"
                },
                "color": "#607D8B",
                "styles": {},
                "label": "John Tyler",
                "scale_factor": 1,
                "type": "#607D8B",
                "size": [
                  55,
                  55
                ],
                "position": [
                  0,
                  0
                ]
              },
              {
                "id": 17,
                "properties": {
                  "id": "Alexander Hamilton",
                  "label": "__Entity__:Person"
                },
                "color": "#607D8B",
                "styles": {},
                "label": "Alexander Hamilton",
                "scale_factor": 1,
                "type": "#607D8B",
                "size": [
                  55,
                  55
                ],
                "position": [
                  0,
                  0
                ]
              },
              {
                "id": 18,
                "properties": {
                  "id": "Thomas Jefferson",
                  "label": "__Entity__:Person"
                },
                "color": "#607D8B",
                "styles": {},
                "label": "Thomas Jefferson",
                "scale_factor": 1,
                "type": "#607D8B",
                "size": [
                  55,
                  55
                ],
                "position": [
                  0,
                  0
                ]
              },
              {
                "id": 37,
                "properties": {
                  "id": "Twelfth Amendment",
                  "label": "__Entity__:Legislation"
                },
                "color": "#9E9E9E",
                "styles": {},
                "label": "Twelfth Amendment",
                "scale_factor": 1,
                "type": "#9E9E9E",
                "size": [
                  55,
                  55
                ],
                "position": [
                  0,
                  0
                ]
              },
              {
                "id": 79,
                "properties": {
                  "id": "Law School",
                  "label": "__Entity__"
                },
                "color": "#673AB7",
                "styles": {},
                "label": "Law School",
                "scale_factor": 1,
                "type": "#673AB7",
                "size": [
                  55,
                  55
                ],
                "position": [
                  0,
                  0
                ]
              },
              {
                "id": 26,
                "properties": {
                  "id": "U.S. President",
                  "label": "__Entity__:Person"
                },
                "color": "#607D8B",
                "styles": {},
                "label": "U.S. President",
                "scale_factor": 1,
                "type": "#607D8B",
                "size": [
                  55,
                  55
                ],
                "position": [
                  0,
                  0
                ]
              },
              {
                "id": 27,
                "properties": {
                  "id": "Political Party",
                  "label": "__Entity__"
                },
                "color": "#673AB7",
                "styles": {},
                "label": "Political Party",
                "scale_factor": 1,
                "type": "#673AB7",
                "size": [
                  55,
                  55
                ],
                "position": [
                  0,
                  0
                ]
              },
              {
                "id": 29,
                "properties": {
                  "id": "Vice President",
                  "label": "__Entity__:Position"
                },
                "color": "#2196F3",
                "styles": {},
                "label": "Vice President",
                "scale_factor": 1,
                "type": "#2196F3",
                "size": [
                  55,
                  55
                ],
                "position": [
                  0,
                  0
                ]
              },
              {
                "id": 30,
                "properties": {
                  "id": "Jd Vance",
                  "label": "__Entity__:Person"
                },
                "color": "#607D8B",
                "styles": {},
                "label": "Jd Vance",
                "scale_factor": 1,
                "type": "#607D8B",
                "size": [
                  55,
                  55
                ],
                "position": [
                  0,
                  0
                ]
              },
              {
                "id": 31,
                "properties": {
                  "id": "George Clinton",
                  "label": "__Entity__:Person"
                },
                "color": "#607D8B",
                "styles": {},
                "label": "George Clinton",
                "scale_factor": 1,
                "type": "#607D8B",
                "size": [
                  55,
                  55
                ],
                "position": [
                  0,
                  0
                ]
              },
              {
                "id": 32,
                "properties": {
                  "id": "John C. Calhoun",
                  "label": "__Entity__:Person"
                },
                "color": "#607D8B",
                "styles": {},
                "label": "John C. Calhoun",
                "scale_factor": 1,
                "type": "#607D8B",
                "size": [
                  55,
                  55
                ],
                "position": [
                  0,
                  0
                ]
              },
              {
                "id": 33,
                "properties": {
                  "id": "Aaron Burr",
                  "label": "__Entity__:Person"
                },
                "color": "#607D8B",
                "styles": {},
                "label": "Aaron Burr",
                "scale_factor": 1,
                "type": "#607D8B",
                "size": [
                  55,
                  55
                ],
                "position": [
                  0,
                  0
                ]
              },
              {
                "id": 34,
                "properties": {
                  "id": "George H. W. Bush",
                  "label": "__Entity__:Person"
                },
                "color": "#607D8B",
                "styles": {},
                "label": "George H. W. Bush",
                "scale_factor": 1,
                "type": "#607D8B",
                "size": [
                  55,
                  55
                ],
                "position": [
                  0,
                  0
                ]
              },
              {
                "id": 38,
                "properties": {
                  "id": "Twenty-Fifth Amendment",
                  "label": "__Entity__:Legislation"
                },
                "color": "#9E9E9E",
                "styles": {},
                "label": "Twenty-Fifth Amendment",
                "scale_factor": 1,
                "type": "#9E9E9E",
                "size": [
                  55,
                  55
                ],
                "position": [
                  0,
                  0
                ]
              },
              {
                "id": 35,
                "properties": {
                  "id": "Dick Cheney",
                  "label": "__Entity__:Person"
                },
                "color": "#607D8B",
                "styles": {},
                "label": "Dick Cheney",
                "scale_factor": 1,
                "type": "#607D8B",
                "size": [
                  55,
                  55
                ],
                "position": [
                  0,
                  0
                ]
              },
              {
                "id": 36,
                "properties": {
                  "id": "Kamala Harris",
                  "label": "__Entity__:Person"
                },
                "color": "#607D8B",
                "styles": {},
                "label": "Kamala Harris",
                "scale_factor": 1,
                "type": "#607D8B",
                "size": [
                  55,
                  55
                ],
                "position": [
                  0,
                  0
                ]
              },
              {
                "id": 40,
                "properties": {
                  "id": "Vice Presidents",
                  "label": "__Entity__:Concept"
                },
                "color": "#9C27B0",
                "styles": {},
                "label": "Vice Presidents",
                "scale_factor": 1,
                "type": "#9C27B0",
                "size": [
                  55,
                  55
                ],
                "position": [
                  0,
                  0
                ]
              },
              {
                "id": 41,
                "properties": {
                  "id": "Acting President Of The United States",
                  "label": "__Entity__:Concept"
                },
                "color": "#9C27B0",
                "styles": {},
                "label": "Acting President Of The United States",
                "scale_factor": 1,
                "type": "#9C27B0",
                "size": [
                  55,
                  55
                ],
                "position": [
                  0,
                  0
                ]
              },
              {
                "id": 42,
                "properties": {
                  "id": "Founding Fathers Of The United States",
                  "label": "__Entity__:Concept"
                },
                "color": "#9C27B0",
                "styles": {},
                "label": "Founding Fathers Of The United States",
                "scale_factor": 1,
                "type": "#9C27B0",
                "size": [
                  55,
                  55
                ],
                "position": [
                  0,
                  0
                ]
              },
              {
                "id": 43,
                "properties": {
                  "id": "List Of Presidents Of The United States",
                  "label": "__Entity__:Concept"
                },
                "color": "#9C27B0",
                "styles": {},
                "label": "List Of Presidents Of The United States",
                "scale_factor": 1,
                "type": "#9C27B0",
                "size": [
                  55,
                  55
                ],
                "position": [
                  0,
                  0
                ]
              },
              {
                "id": 44,
                "properties": {
                  "id": "Presiding Officer Of The United States Senate",
                  "label": "__Entity__:Concept"
                },
                "color": "#9C27B0",
                "styles": {},
                "label": "Presiding Officer Of The United States Senate",
                "scale_factor": 1,
                "type": "#9C27B0",
                "size": [
                  55,
                  55
                ],
                "position": [
                  0,
                  0
                ]
              },
              {
                "id": 45,
                "properties": {
                  "id": "United States Senate Vice Presidential Bust Collection",
                  "label": "__Entity__:Concept"
                },
                "color": "#9C27B0",
                "styles": {},
                "label": "United States Senate Vice Presidential Bust Collection",
                "scale_factor": 1,
                "type": "#9C27B0",
                "size": [
                  55,
                  55
                ],
                "position": [
                  0,
                  0
                ]
              },
              {
                "id": 47,
                "properties": {
                  "id": "James Monroe",
                  "label": "__Entity__:Person"
                },
                "color": "#607D8B",
                "styles": {},
                "label": "James Monroe",
                "scale_factor": 1,
                "type": "#607D8B",
                "size": [
                  55,
                  55
                ],
                "position": [
                  0,
                  0
                ]
              },
              {
                "id": 50,
                "properties": {
                  "id": "Millard Fillmore",
                  "label": "__Entity__:Person"
                },
                "color": "#607D8B",
                "styles": {},
                "label": "Millard Fillmore",
                "scale_factor": 1,
                "type": "#607D8B",
                "size": [
                  55,
                  55
                ],
                "position": [
                  0,
                  0
                ]
              },
              {
                "id": 59,
                "properties": {
                  "id": "University At Buffalo",
                  "label": "__Entity__:University"
                },
                "color": "#CDDC39",
                "styles": {},
                "label": "University At Buffalo",
                "scale_factor": 1,
                "type": "#CDDC39",
                "size": [
                  55,
                  55
                ],
                "position": [
                  0,
                  0
                ]
              },
              {
                "id": 52,
                "properties": {
                  "id": "Harry S. Truman",
                  "label": "__Entity__:Person"
                },
                "color": "#607D8B",
                "styles": {},
                "label": "Harry S. Truman",
                "scale_factor": 1,
                "type": "#607D8B",
                "size": [
                  55,
                  55
                ],
                "position": [
                  0,
                  0
                ]
              },
              {
                "id": 64,
                "properties": {
                  "id": "Business College",
                  "label": "__Entity__"
                },
                "color": "#673AB7",
                "styles": {},
                "label": "Business College",
                "scale_factor": 1,
                "type": "#673AB7",
                "size": [
                  55,
                  55
                ],
                "position": [
                  0,
                  0
                ]
              },
              {
                "id": 53,
                "properties": {
                  "id": "John Quincy Adams",
                  "label": "__Entity__:Person"
                },
                "color": "#607D8B",
                "styles": {},
                "label": "John Quincy Adams",
                "scale_factor": 1,
                "type": "#607D8B",
                "size": [
                  55,
                  55
                ],
                "position": [
                  0,
                  0
                ]
              },
              {
                "id": 55,
                "properties": {
                  "id": "Leiden University",
                  "label": "__Entity__:University"
                },
                "color": "#CDDC39",
                "styles": {},
                "label": "Leiden University",
                "scale_factor": 1,
                "type": "#CDDC39",
                "size": [
                  55,
                  55
                ],
                "position": [
                  0,
                  0
                ]
              },
              {
                "id": 54,
                "properties": {
                  "id": "Bill Clinton",
                  "label": "__Entity__:Person"
                },
                "color": "#607D8B",
                "styles": {},
                "label": "Bill Clinton",
                "scale_factor": 1,
                "type": "#607D8B",
                "size": [
                  55,
                  55
                ],
                "position": [
                  0,
                  0
                ]
              },
              {
                "id": 62,
                "properties": {
                  "id": "University Of Oxford",
                  "label": "__Entity__:University"
                },
                "color": "#CDDC39",
                "styles": {},
                "label": "University Of Oxford",
                "scale_factor": 1,
                "type": "#CDDC39",
                "size": [
                  55,
                  55
                ],
                "position": [
                  0,
                  0
                ]
              },
              {
                "id": 63,
                "properties": {
                  "id": "Yale Law School",
                  "label": "__Entity__:University:Graduate school"
                },
                "color": "#2196F3",
                "styles": {},
                "label": "Yale Law School",
                "scale_factor": 1,
                "type": "#2196F3",
                "size": [
                  55,
                  55
                ],
                "position": [
                  0,
                  0
                ]
              },
              {
                "id": 66,
                "properties": {
                  "id": "Oxford",
                  "label": "__Entity__:University"
                },
                "color": "#CDDC39",
                "styles": {},
                "label": "Oxford",
                "scale_factor": 1,
                "type": "#CDDC39",
                "size": [
                  55,
                  55
                ],
                "position": [
                  0,
                  0
                ]
              }
            ],
            "_overview": {
              "enabled": null,
              "overview_set": false
            },
            "_selected_graph": [
              [],
              []
            ],
            "_sidebar": {
              "enabled": false,
              "start_with": null
            },
            "_view_count": null,
            "_view_module": "yfiles-jupyter-graphs",
            "_view_module_version": "^1.10.1",
            "_view_name": "GraphView",
            "layout": "IPY_MODEL_8be139b63c24422fbeb84d2f3a4f01be",
            "tabbable": null,
            "tooltip": null
          }
        },
        "8be139b63c24422fbeb84d2f3a4f01be": {
          "model_module": "@jupyter-widgets/base",
          "model_name": "LayoutModel",
          "model_module_version": "2.0.0",
          "state": {
            "_model_module": "@jupyter-widgets/base",
            "_model_module_version": "2.0.0",
            "_model_name": "LayoutModel",
            "_view_count": null,
            "_view_module": "@jupyter-widgets/base",
            "_view_module_version": "2.0.0",
            "_view_name": "LayoutView",
            "align_content": null,
            "align_items": null,
            "align_self": null,
            "border_bottom": null,
            "border_left": null,
            "border_right": null,
            "border_top": null,
            "bottom": null,
            "display": null,
            "flex": null,
            "flex_flow": null,
            "grid_area": null,
            "grid_auto_columns": null,
            "grid_auto_flow": null,
            "grid_auto_rows": null,
            "grid_column": null,
            "grid_gap": null,
            "grid_row": null,
            "grid_template_areas": null,
            "grid_template_columns": null,
            "grid_template_rows": null,
            "height": "800px",
            "justify_content": null,
            "justify_items": null,
            "left": null,
            "margin": null,
            "max_height": null,
            "max_width": null,
            "min_height": null,
            "min_width": null,
            "object_fit": null,
            "object_position": null,
            "order": null,
            "overflow": null,
            "padding": null,
            "right": null,
            "top": null,
            "visibility": null,
            "width": "100%"
          }
        }
      }
    }
  },
  "cells": [
    {
      "cell_type": "code",
      "source": [
        "%pip install --upgrade --quiet  langchain langchain-community langchain-openai langchain-experimental neo4j wikipedia tiktoken yfiles_jupyter_graphs\n"
      ],
      "metadata": {
        "id": "rVNXw6Fk_XWn"
      },
      "execution_count": 63,
      "outputs": []
    },
    {
      "cell_type": "code",
      "source": [
        "%pip install --quiet openai\n",
        "from openai import OpenAI"
      ],
      "metadata": {
        "id": "YonbRPQ8Y9-D"
      },
      "execution_count": 64,
      "outputs": []
    },
    {
      "cell_type": "code",
      "execution_count": 65,
      "metadata": {
        "id": "pvghCCMZ9l4C"
      },
      "outputs": [],
      "source": [
        "from langchain_core.runnables import (\n",
        "    RunnableBranch,\n",
        "    RunnableLambda,\n",
        "    RunnableParallel,\n",
        "    RunnablePassthrough,\n",
        ")"
      ]
    },
    {
      "cell_type": "code",
      "source": [
        "from langchain_core.prompts import ChatPromptTemplate\n",
        "from langchain_core.prompts.prompt import PromptTemplate"
      ],
      "metadata": {
        "id": "Ix0eoQXqT0gU"
      },
      "execution_count": 66,
      "outputs": []
    },
    {
      "cell_type": "code",
      "source": [],
      "metadata": {
        "id": "jflxskUkZ2Qz"
      },
      "execution_count": null,
      "outputs": []
    },
    {
      "cell_type": "code",
      "source": [
        "import os\n",
        "\n",
        "from google.colab import userdata\n",
        "OPENAI_API_KEY=userdata.get('OPENAI_API_KEY')\n"
      ],
      "metadata": {
        "id": "djjWXzAjaSjr"
      },
      "execution_count": 121,
      "outputs": []
    },
    {
      "cell_type": "code",
      "source": [
        "\n",
        "from typing import Tuple, List, Optional"
      ],
      "metadata": {
        "id": "5gKkhyAVgfQo"
      },
      "execution_count": 68,
      "outputs": []
    },
    {
      "cell_type": "code",
      "source": [
        "\n",
        "from langchain_core.messages import AIMessage, HumanMessage\n",
        "from langchain_core.output_parsers import StrOutputParser"
      ],
      "metadata": {
        "id": "R_ydQutPVKBk"
      },
      "execution_count": 69,
      "outputs": []
    },
    {
      "cell_type": "code",
      "source": [
        "\n",
        "from langchain_core.runnables import ConfigurableField"
      ],
      "metadata": {
        "id": "-tOZU9sV3vEk"
      },
      "execution_count": 70,
      "outputs": []
    },
    {
      "cell_type": "code",
      "source": [
        "\n",
        "from yfiles_jupyter_graphs import GraphWidget\n",
        "from neo4j import GraphDatabase"
      ],
      "metadata": {
        "id": "6MTcloc93xEh"
      },
      "execution_count": 71,
      "outputs": []
    },
    {
      "cell_type": "code",
      "source": [
        "try:\n",
        "  import google.colab\n",
        "  from google.colab import output\n",
        "  output.enable_custom_widget_manager()\n",
        "except:\n",
        "  pass"
      ],
      "metadata": {
        "id": "DAqYbwj63zOt"
      },
      "execution_count": 72,
      "outputs": []
    },
    {
      "cell_type": "code",
      "source": [
        "\n",
        "from langchain_community.vectorstores import Neo4jVector"
      ],
      "metadata": {
        "id": "ttW6YfO831O4"
      },
      "execution_count": 73,
      "outputs": []
    },
    {
      "cell_type": "code",
      "source": [
        "\n",
        "from langchain_community.graphs import Neo4jGraph"
      ],
      "metadata": {
        "id": "DOAo8X2w4E3_"
      },
      "execution_count": 74,
      "outputs": []
    },
    {
      "cell_type": "code",
      "source": [
        "NEO4J_URI=\"neo4j+s://082f2916.databases.neo4j.io\"\n",
        "NEO4J_USERNAME=\"neo4j\"\n",
        "NEO4J_PASSWORD=\"1NKby4KeZHHfu9yaIjC-4UJQWT15DjmFIMOihNNfDCc\""
      ],
      "metadata": {
        "id": "6zaOvGjibXi9"
      },
      "execution_count": 108,
      "outputs": []
    },
    {
      "cell_type": "code",
      "source": [
        "os.environ[\"OPENAI_API_KEY\"] = OPENAI_API_KEY\n",
        "os.environ[\"NEO4J_URI\"] = NEO4J_URI\n",
        "os.environ[\"NEO4J_USERNAME\"] = NEO4J_USERNAME\n",
        "os.environ[\"NEO4J_PASSWORD\"] = NEO4J_PASSWORD"
      ],
      "metadata": {
        "id": "z9hJb8iebctJ"
      },
      "execution_count": 122,
      "outputs": []
    },
    {
      "cell_type": "code",
      "source": [
        "%pip install --quiet -U langchain-neo4j\n"
      ],
      "metadata": {
        "id": "KITG91XN9bvP"
      },
      "execution_count": 110,
      "outputs": []
    },
    {
      "cell_type": "code",
      "source": [
        "from langchain_neo4j import Neo4jGraph\n",
        "graph = Neo4jGraph()"
      ],
      "metadata": {
        "id": "kG22QQl24JpS"
      },
      "execution_count": 79,
      "outputs": []
    },
    {
      "cell_type": "code",
      "source": [
        "from langchain.document_loaders import WikipediaLoader\n",
        "raw_documents = WikipediaLoader(query=\"List of presidents of the United States\").load()"
      ],
      "metadata": {
        "id": "qZnnDq__gnhb"
      },
      "execution_count": 111,
      "outputs": []
    },
    {
      "cell_type": "code",
      "source": [
        "len(raw_documents)"
      ],
      "metadata": {
        "colab": {
          "base_uri": "https://localhost:8080/"
        },
        "id": "R6rtRMez8-Bt",
        "outputId": "aed5ed9f-d295-4b2d-bcf8-b9a019b445a8"
      },
      "execution_count": 38,
      "outputs": [
        {
          "output_type": "execute_result",
          "data": {
            "text/plain": [
              "25"
            ]
          },
          "metadata": {},
          "execution_count": 38
        }
      ]
    },
    {
      "cell_type": "code",
      "source": [
        "raw_documents[:3]"
      ],
      "metadata": {
        "colab": {
          "base_uri": "https://localhost:8080/"
        },
        "id": "MY7udt8X9I8Z",
        "outputId": "0b861f15-7c64-4f06-e206-c212bc884f49",
        "collapsed": true
      },
      "execution_count": 39,
      "outputs": [
        {
          "output_type": "execute_result",
          "data": {
            "text/plain": [
              "[Document(metadata={'title': 'List of presidents of the United States', 'summary': 'The president of the United States is the head of state and head of government of the United States, indirectly elected to a four-year term via the Electoral College. Under the U.S. Constitution, the officeholder leads the executive branch of the federal government and is the commander-in-chief of the United States Armed Forces. The first president, George Washington, won a unanimous vote of the Electoral College. The incumbent president is Donald Trump, who assumed office on January 20, 2025. Since the office was established in 1789, 45 men have served in 47 presidencies; the discrepancy arises from two individuals elected to non-consecutive terms: Grover Cleveland is counted as the 22nd and 24th president of the United States, while Donald Trump is counted as the 45th and 47th president.\\nThe presidency of William Henry Harrison, who died 31 days after taking office in 1841, was the shortest in American history. Franklin D. Roosevelt served the longest, over twelve years, before dying early in his fourth term in 1945. He is the only U.S. president to have served more than two terms. Since the ratification of the Twenty-second Amendment to the United States Constitution in 1951, no person may be elected president more than twice, and no one who has served more than two years of a term to which someone else was elected may be elected more than once.\\nFour presidents died in office of natural causes (William Henry Harrison, Zachary Taylor, Warren G. Harding, and Franklin D. Roosevelt), four were assassinated (Abraham Lincoln, James A. Garfield, William McKinley, and John F. Kennedy), and one resigned (Richard Nixon, facing impeachment and removal from office). John Tyler was the first vice president to assume the presidency during a presidential term, setting the precedent that a vice president who does so becomes the fully functioning president with a new, distinct administration.\\nThroughout most of its history, American politics has been dominated by political parties. The Constitution is silent on the issue of political parties, and at the time it came into force in 1789, no organized parties existed. Soon after the 1st Congress convened, political factions began rallying around dominant Washington administration officials, such as Alexander Hamilton and Thomas Jefferson. Concerned about the capacity of political parties to destroy the fragile unity holding the nation together, Washington remained unaffiliated with any political faction or party throughout his eight-year presidency. He was, and remains, the only U.S. president who never affiliated with a political party.', 'source': 'https://en.wikipedia.org/wiki/List_of_presidents_of_the_United_States'}, page_content='The president of the United States is the head of state and head of government of the United States, indirectly elected to a four-year term via the Electoral College. Under the U.S. Constitution, the officeholder leads the executive branch of the federal government and is the commander-in-chief of the United States Armed Forces. The first president, George Washington, won a unanimous vote of the Electoral College. The incumbent president is Donald Trump, who assumed office on January 20, 2025. Since the office was established in 1789, 45 men have served in 47 presidencies; the discrepancy arises from two individuals elected to non-consecutive terms: Grover Cleveland is counted as the 22nd and 24th president of the United States, while Donald Trump is counted as the 45th and 47th president.\\nThe presidency of William Henry Harrison, who died 31 days after taking office in 1841, was the shortest in American history. Franklin D. Roosevelt served the longest, over twelve years, before dying early in his fourth term in 1945. He is the only U.S. president to have served more than two terms. Since the ratification of the Twenty-second Amendment to the United States Constitution in 1951, no person may be elected president more than twice, and no one who has served more than two years of a term to which someone else was elected may be elected more than once.\\nFour presidents died in office of natural causes (William Henry Harrison, Zachary Taylor, Warren G. Harding, and Franklin D. Roosevelt), four were assassinated (Abraham Lincoln, James A. Garfield, William McKinley, and John F. Kennedy), and one resigned (Richard Nixon, facing impeachment and removal from office). John Tyler was the first vice president to assume the presidency during a presidential term, setting the precedent that a vice president who does so becomes the fully functioning president with a new, distinct administration.\\nThroughout most of its history, American politics has been dominated by political parties. The Constitution is silent on the issue of political parties, and at the time it came into force in 1789, no organized parties existed. Soon after the 1st Congress convened, political factions began rallying around dominant Washington administration officials, such as Alexander Hamilton and Thomas Jefferson. Concerned about the capacity of political parties to destroy the fragile unity holding the nation together, Washington remained unaffiliated with any political faction or party throughout his eight-year presidency. He was, and remains, the only U.S. president who never affiliated with a political party.\\n\\n\\n== Presidents ==\\n\\n\\n== See also ==\\nActing President of the United States\\nFounding Fathers of the United States\\nList of vice presidents of the United States\\nPresident of the Continental Congress\\n\\n\\n== Notes ==\\n\\n\\n== References ==\\n\\n\\n== Works cited ==\\n\\n\\n== External links ==\\n Media related to President of the United States at Wikimedia Commons\\n Quotations related to List of presidents of the United States at Wikiquote'),\n",
              " Document(metadata={'title': 'List of vice presidents of the United States', 'summary': 'The vice president of the United States is the second-highest officer in the executive branch of the United States federal government after the president of the United States. The vice president also serves as the president of the Senate and may choose to cast a tie-breaking vote on decisions made by the Senate. Vice presidents have exercised this latter power to varying extents over the years. Two vice presidents—George Clinton and John C. Calhoun—served under more than one president.\\nThe incumbent vice president is JD Vance, who assumed office as the 50th vice president on January 20, 2025.\\nThere have been 50 U.S. vice presidents since the office was created in 1789. Originally, the vice president was the person who received the second-most votes for president in the Electoral College. But after the election of 1800 produced a tie between Thomas Jefferson and Aaron Burr, requiring the House of Representatives to choose between them, lawmakers acted to prevent such a situation from recurring. The Twelfth Amendment was added to the Constitution in 1804, creating the current system where electors cast a separate ballot for the vice presidency.\\nThe vice president is the first person in the presidential line of succession—that is, they assume the presidency if the president dies, resigns, or is impeached and removed from office. Nine vice presidents have ascended to the presidency in this way. Also, several vice presidents have gone on to be elected as president in their own right.\\nBefore adoption of the Twenty-fifth Amendment in 1967, an intra-term vacancy in the office of the vice president could not be filled until the next post-election inauguration. Several such vacancies occurred: seven vice presidents died, one resigned and eight succeeded to the presidency. This amendment allowed for a vacancy to be filled through appointment by the president and confirmation by both chambers of Congress. Since its ratification, the vice presidency has been vacant twice (both in the context of scandals surrounding the Nixon administration) and was filled both times through this process. The amendment also established a procedure whereby a vice president may, if the president is unable to discharge the powers and duties of the office, temporarily assume the powers and duties of the office as acting president. Three vice presidents have briefly acted as president under the 25th Amendment: George H. W. Bush on July 13, 1985; Dick Cheney on June 29, 2002, and on July 21, 2007; and Kamala Harris on November 19, 2021.', 'source': 'https://en.wikipedia.org/wiki/List_of_vice_presidents_of_the_United_States'}, page_content='The vice president of the United States is the second-highest officer in the executive branch of the United States federal government after the president of the United States. The vice president also serves as the president of the Senate and may choose to cast a tie-breaking vote on decisions made by the Senate. Vice presidents have exercised this latter power to varying extents over the years. Two vice presidents—George Clinton and John C. Calhoun—served under more than one president.\\nThe incumbent vice president is JD Vance, who assumed office as the 50th vice president on January 20, 2025.\\nThere have been 50 U.S. vice presidents since the office was created in 1789. Originally, the vice president was the person who received the second-most votes for president in the Electoral College. But after the election of 1800 produced a tie between Thomas Jefferson and Aaron Burr, requiring the House of Representatives to choose between them, lawmakers acted to prevent such a situation from recurring. The Twelfth Amendment was added to the Constitution in 1804, creating the current system where electors cast a separate ballot for the vice presidency.\\nThe vice president is the first person in the presidential line of succession—that is, they assume the presidency if the president dies, resigns, or is impeached and removed from office. Nine vice presidents have ascended to the presidency in this way. Also, several vice presidents have gone on to be elected as president in their own right.\\nBefore adoption of the Twenty-fifth Amendment in 1967, an intra-term vacancy in the office of the vice president could not be filled until the next post-election inauguration. Several such vacancies occurred: seven vice presidents died, one resigned and eight succeeded to the presidency. This amendment allowed for a vacancy to be filled through appointment by the president and confirmation by both chambers of Congress. Since its ratification, the vice presidency has been vacant twice (both in the context of scandals surrounding the Nixon administration) and was filled both times through this process. The amendment also established a procedure whereby a vice president may, if the president is unable to discharge the powers and duties of the office, temporarily assume the powers and duties of the office as acting president. Three vice presidents have briefly acted as president under the 25th Amendment: George H. W. Bush on July 13, 1985; Dick Cheney on June 29, 2002, and on July 21, 2007; and Kamala Harris on November 19, 2021.\\n\\n\\n== Vice presidents ==\\n\\n\\n== See also ==\\nActing President of the United States\\nFounding Fathers of the United States\\nList of presidents of the United States\\nPresiding Officer of the United States Senate\\nUnited States Senate Vice Presidential Bust Collection\\n\\n\\n== Notes ==\\n\\n\\n== References ==\\n\\n\\n== Works cited =='),\n",
              " Document(metadata={'title': 'Religious affiliations of presidents of the United States', 'summary': 'Religious affiliations can affect the electability of the presidents of the United States and shape their stances on policy matters and their visions of society and also how they want to lead it. While no president has ever openly identified as an atheist, Thomas Jefferson, Abraham Lincoln, and William Howard Taft were speculated to be atheists by their opponents during political campaigns; in addition, a survey during the presidency of Donald Trump showed that 63% of Americans did not believe he was religious, despite his professed Christian affiliation. Conspiracy theorists also falsely circulated rumors that Barack Obama was a Muslim during his 2004 Senate campaign and later time as President. Conversely, other presidents, such as Jimmy Carter, used their faith as a defining aspect of their campaigns and tenure in office.\\nEssentially all of the presidents can be characterized as Christians, at least by upbringing, though some were unaffiliated with any specific religious body. Mainline Protestants predominate, with Episcopalians and Presbyterians being the most prevalent. John F. Kennedy and Joe Biden were the only Catholic presidents.\\n\\n', 'source': 'https://en.wikipedia.org/wiki/Religious_affiliations_of_presidents_of_the_United_States'}, page_content='Religious affiliations can affect the electability of the presidents of the United States and shape their stances on policy matters and their visions of society and also how they want to lead it. While no president has ever openly identified as an atheist, Thomas Jefferson, Abraham Lincoln, and William Howard Taft were speculated to be atheists by their opponents during political campaigns; in addition, a survey during the presidency of Donald Trump showed that 63% of Americans did not believe he was religious, despite his professed Christian affiliation. Conspiracy theorists also falsely circulated rumors that Barack Obama was a Muslim during his 2004 Senate campaign and later time as President. Conversely, other presidents, such as Jimmy Carter, used their faith as a defining aspect of their campaigns and tenure in office.\\nEssentially all of the presidents can be characterized as Christians, at least by upbringing, though some were unaffiliated with any specific religious body. Mainline Protestants predominate, with Episcopalians and Presbyterians being the most prevalent. John F. Kennedy and Joe Biden were the only Catholic presidents.\\n\\n\\n== Formal affiliation ==\\nThe pattern of religious adherence has changed dramatically over the course of United States history, so that the pattern of presidential affiliations is quite unrepresentative of modern membership numbers. For example, Episcopalians are extraordinarily well represented among the presidents compared to a current membership of about 2% of the population; this is partly because the Church of England, from which the Episcopal Church is derived, was the established church in some of the British Colonies (such as New York and Virginia) before the American Revolution. The Episcopal Church has been much larger previously, with its decline in membership occurring only in more recent decades. The first seven presidents listed as Episcopalians were all from Virginia. Unitarians are also overrepresented, reflecting the importance of those colonial churches. Conversely, Baptists are underrepresented, a reflection of their quite recent expansion in numbers; the list includes only two Catholic presidents, although they are currently the largest single denomination. There have been no Adventist, Anabaptist, Eastern Orthodox, Assyrian Church of the East, Oriental Orthodox, Lutheran, Latter Day Saint, or Pentecostal presidents.\\nWhile many presidents did not formally join a church until quite late in life, there is a genre of tales of deathbed conversions. Biographers usually doubt these, though the baptism of James K. Polk is well documented.\\n\\n\\n== Personal beliefs ==\\nOn the other hand, there are several presidents who considered themselves aligned with a particular church, but who withheld from formal affiliation for a time. James Buchanan, for instance, held himself allied with the Presbyterian church, but refrained from joining it until he left office.\\n\\n\\n=== Deism and the Founding Fathers ===\\nDeism was a religious philosophy in common currency in colonial times, and some Founding Fathers (most notably Thomas Paine, who was an explicit proponent of it, and Benjamin Franklin, who spoke of it in his Autobiography) are identified more or less with this system. Thomas Jefferson became a deist in later life, and George Washington, John Adams, Alexander Hamilton, James Madison, James Monroe, and John Tyler are often identified as having some degree of deistic beliefs.\\n\\n\\n=== Unitarianism and nontrinitarianism ===\\nFour presidents were affiliated with Unitarian churches and a fifth (Thomas Jefferson) was an exponent of ideas now commonly associated with Unitarianism. Unitarianism, the belief that God has a unitary nature, developed in opposition to Trinitarianism, the belief that God is three persons in one (the Father, the Son and the Holy Spirit). In a letter to Benjamin Waterhouse in 1822, Jefferson said, \"I trust that there is not a young man now living in the US. who will not die an Un')]"
            ]
          },
          "metadata": {},
          "execution_count": 39
        }
      ]
    },
    {
      "cell_type": "code",
      "source": [
        "raw_documents[0]"
      ],
      "metadata": {
        "colab": {
          "base_uri": "https://localhost:8080/"
        },
        "id": "lsond9bOMAtW",
        "outputId": "61a288a7-f79d-44a2-b932-dbc49c753295",
        "collapsed": true
      },
      "execution_count": 40,
      "outputs": [
        {
          "output_type": "execute_result",
          "data": {
            "text/plain": [
              "Document(metadata={'title': 'List of presidents of the United States', 'summary': 'The president of the United States is the head of state and head of government of the United States, indirectly elected to a four-year term via the Electoral College. Under the U.S. Constitution, the officeholder leads the executive branch of the federal government and is the commander-in-chief of the United States Armed Forces. The first president, George Washington, won a unanimous vote of the Electoral College. The incumbent president is Donald Trump, who assumed office on January 20, 2025. Since the office was established in 1789, 45 men have served in 47 presidencies; the discrepancy arises from two individuals elected to non-consecutive terms: Grover Cleveland is counted as the 22nd and 24th president of the United States, while Donald Trump is counted as the 45th and 47th president.\\nThe presidency of William Henry Harrison, who died 31 days after taking office in 1841, was the shortest in American history. Franklin D. Roosevelt served the longest, over twelve years, before dying early in his fourth term in 1945. He is the only U.S. president to have served more than two terms. Since the ratification of the Twenty-second Amendment to the United States Constitution in 1951, no person may be elected president more than twice, and no one who has served more than two years of a term to which someone else was elected may be elected more than once.\\nFour presidents died in office of natural causes (William Henry Harrison, Zachary Taylor, Warren G. Harding, and Franklin D. Roosevelt), four were assassinated (Abraham Lincoln, James A. Garfield, William McKinley, and John F. Kennedy), and one resigned (Richard Nixon, facing impeachment and removal from office). John Tyler was the first vice president to assume the presidency during a presidential term, setting the precedent that a vice president who does so becomes the fully functioning president with a new, distinct administration.\\nThroughout most of its history, American politics has been dominated by political parties. The Constitution is silent on the issue of political parties, and at the time it came into force in 1789, no organized parties existed. Soon after the 1st Congress convened, political factions began rallying around dominant Washington administration officials, such as Alexander Hamilton and Thomas Jefferson. Concerned about the capacity of political parties to destroy the fragile unity holding the nation together, Washington remained unaffiliated with any political faction or party throughout his eight-year presidency. He was, and remains, the only U.S. president who never affiliated with a political party.', 'source': 'https://en.wikipedia.org/wiki/List_of_presidents_of_the_United_States'}, page_content='The president of the United States is the head of state and head of government of the United States, indirectly elected to a four-year term via the Electoral College. Under the U.S. Constitution, the officeholder leads the executive branch of the federal government and is the commander-in-chief of the United States Armed Forces. The first president, George Washington, won a unanimous vote of the Electoral College. The incumbent president is Donald Trump, who assumed office on January 20, 2025. Since the office was established in 1789, 45 men have served in 47 presidencies; the discrepancy arises from two individuals elected to non-consecutive terms: Grover Cleveland is counted as the 22nd and 24th president of the United States, while Donald Trump is counted as the 45th and 47th president.\\nThe presidency of William Henry Harrison, who died 31 days after taking office in 1841, was the shortest in American history. Franklin D. Roosevelt served the longest, over twelve years, before dying early in his fourth term in 1945. He is the only U.S. president to have served more than two terms. Since the ratification of the Twenty-second Amendment to the United States Constitution in 1951, no person may be elected president more than twice, and no one who has served more than two years of a term to which someone else was elected may be elected more than once.\\nFour presidents died in office of natural causes (William Henry Harrison, Zachary Taylor, Warren G. Harding, and Franklin D. Roosevelt), four were assassinated (Abraham Lincoln, James A. Garfield, William McKinley, and John F. Kennedy), and one resigned (Richard Nixon, facing impeachment and removal from office). John Tyler was the first vice president to assume the presidency during a presidential term, setting the precedent that a vice president who does so becomes the fully functioning president with a new, distinct administration.\\nThroughout most of its history, American politics has been dominated by political parties. The Constitution is silent on the issue of political parties, and at the time it came into force in 1789, no organized parties existed. Soon after the 1st Congress convened, political factions began rallying around dominant Washington administration officials, such as Alexander Hamilton and Thomas Jefferson. Concerned about the capacity of political parties to destroy the fragile unity holding the nation together, Washington remained unaffiliated with any political faction or party throughout his eight-year presidency. He was, and remains, the only U.S. president who never affiliated with a political party.\\n\\n\\n== Presidents ==\\n\\n\\n== See also ==\\nActing President of the United States\\nFounding Fathers of the United States\\nList of vice presidents of the United States\\nPresident of the Continental Congress\\n\\n\\n== Notes ==\\n\\n\\n== References ==\\n\\n\\n== Works cited ==\\n\\n\\n== External links ==\\n Media related to President of the United States at Wikimedia Commons\\n Quotations related to List of presidents of the United States at Wikiquote')"
            ]
          },
          "metadata": {},
          "execution_count": 40
        }
      ]
    },
    {
      "cell_type": "markdown",
      "source": [
        "# Tokenizing the data"
      ],
      "metadata": {
        "id": "upG_4TyX9Twz"
      }
    },
    {
      "cell_type": "code",
      "source": [
        "\n",
        "from langchain.text_splitter import TokenTextSplitter\n",
        "text_splitter = TokenTextSplitter(chunk_size=512, chunk_overlap=24)\n",
        "documents = text_splitter.split_documents(raw_documents[:3])"
      ],
      "metadata": {
        "id": "hRwrIVB79X6L"
      },
      "execution_count": 81,
      "outputs": []
    },
    {
      "cell_type": "code",
      "source": [
        "len(documents)"
      ],
      "metadata": {
        "colab": {
          "base_uri": "https://localhost:8080/"
        },
        "id": "_WqbisYb9cj2",
        "outputId": "85522730-ac6a-45f8-8727-e9cb1f96b482"
      },
      "execution_count": 82,
      "outputs": [
        {
          "output_type": "execute_result",
          "data": {
            "text/plain": [
              "6"
            ]
          },
          "metadata": {},
          "execution_count": 82
        }
      ]
    },
    {
      "cell_type": "code",
      "source": [
        "from langchain_openai import ChatOpenAI\n",
        "llm=ChatOpenAI(temperature=0, model_name=\"gpt-4o-mini\")"
      ],
      "metadata": {
        "id": "rpeD2EFU9pNG"
      },
      "execution_count": 125,
      "outputs": []
    },
    {
      "cell_type": "code",
      "source": [
        "\n",
        "from langchain_experimental.graph_transformers import LLMGraphTransformer\n",
        "llm_transformer = LLMGraphTransformer(llm=llm)"
      ],
      "metadata": {
        "id": "lF_0ds_Z9sDg"
      },
      "execution_count": 126,
      "outputs": []
    },
    {
      "cell_type": "code",
      "source": [
        "graph_documents = llm_transformer.convert_to_graph_documents(documents)"
      ],
      "metadata": {
        "id": "4EKf4vF03Mpq"
      },
      "execution_count": 127,
      "outputs": []
    },
    {
      "cell_type": "code",
      "source": [
        "graph_documents"
      ],
      "metadata": {
        "colab": {
          "base_uri": "https://localhost:8080/"
        },
        "id": "Nu62C6zcN0Mr",
        "outputId": "88bee0e0-6528-4743-e996-5c2098c193d4"
      },
      "execution_count": 128,
      "outputs": [
        {
          "output_type": "execute_result",
          "data": {
            "text/plain": [
              "[GraphDocument(nodes=[Node(id='United States', type='Country', properties={}), Node(id='President', type='Position', properties={}), Node(id='Electoral College', type='Institution', properties={}), Node(id='George Washington', type='Person', properties={}), Node(id='Donald Trump', type='Person', properties={}), Node(id='Grover Cleveland', type='Person', properties={}), Node(id='William Henry Harrison', type='Person', properties={}), Node(id='Franklin D. Roosevelt', type='Person', properties={}), Node(id='Zachary Taylor', type='Person', properties={}), Node(id='Warren G. Harding', type='Person', properties={}), Node(id='Abraham Lincoln', type='Person', properties={}), Node(id='James A. Garfield', type='Person', properties={}), Node(id='William Mckinley', type='Person', properties={}), Node(id='John F. Kennedy', type='Person', properties={}), Node(id='Richard Nixon', type='Person', properties={}), Node(id='John Tyler', type='Person', properties={}), Node(id='Alexander Hamilton', type='Person', properties={}), Node(id='Thomas Jefferson', type='Person', properties={})], relationships=[Relationship(source=Node(id='President', type='Position', properties={}), target=Node(id='United States', type='Country', properties={}), type='HEAD_OF_STATE', properties={}), Relationship(source=Node(id='President', type='Position', properties={}), target=Node(id='United States', type='Country', properties={}), type='HEAD_OF_GOVERNMENT', properties={}), Relationship(source=Node(id='Electoral College', type='Institution', properties={}), target=Node(id='President', type='Position', properties={}), type='ELECTS', properties={}), Relationship(source=Node(id='George Washington', type='Person', properties={}), target=Node(id='Electoral College', type='Institution', properties={}), type='WON_VOTE', properties={}), Relationship(source=Node(id='Donald Trump', type='Person', properties={}), target=Node(id='President', type='Position', properties={}), type='INCUMBENT', properties={}), Relationship(source=Node(id='Donald Trump', type='Person', properties={}), target=Node(id='January 20, 2025', type='Date', properties={}), type='ASSUMED_OFFICE', properties={}), Relationship(source=Node(id='William Henry Harrison', type='Person', properties={}), target=Node(id='President', type='Position', properties={}), type='SHORTEST_TERM', properties={}), Relationship(source=Node(id='Franklin D. Roosevelt', type='Person', properties={}), target=Node(id='President', type='Position', properties={}), type='LONGEST_TERM', properties={}), Relationship(source=Node(id='Franklin D. Roosevelt', type='Person', properties={}), target=Node(id='Twenty-Second Amendment', type='Legislation', properties={}), type='FIRST_TO_SERVE_MORE_THAN_TWO_TERMS', properties={}), Relationship(source=Node(id='William Henry Harrison', type='Person', properties={}), target=Node(id='Natural Causes', type='Cause', properties={}), type='DIED_IN_OFFICE', properties={}), Relationship(source=Node(id='Zachary Taylor', type='Person', properties={}), target=Node(id='Natural Causes', type='Cause', properties={}), type='DIED_IN_OFFICE', properties={}), Relationship(source=Node(id='Warren G. Harding', type='Person', properties={}), target=Node(id='Natural Causes', type='Cause', properties={}), type='DIED_IN_OFFICE', properties={}), Relationship(source=Node(id='Franklin D. Roosevelt', type='Person', properties={}), target=Node(id='Natural Causes', type='Cause', properties={}), type='DIED_IN_OFFICE', properties={}), Relationship(source=Node(id='Abraham Lincoln', type='Person', properties={}), target=Node(id='Assassination', type='Cause', properties={}), type='DIED_IN_OFFICE', properties={}), Relationship(source=Node(id='James A. Garfield', type='Person', properties={}), target=Node(id='Assassination', type='Cause', properties={}), type='DIED_IN_OFFICE', properties={}), Relationship(source=Node(id='William Mckinley', type='Person', properties={}), target=Node(id='Assassination', type='Cause', properties={}), type='DIED_IN_OFFICE', properties={}), Relationship(source=Node(id='John F. Kennedy', type='Person', properties={}), target=Node(id='Assassination', type='Cause', properties={}), type='DIED_IN_OFFICE', properties={}), Relationship(source=Node(id='Richard Nixon', type='Person', properties={}), target=Node(id='Resignation', type='Event', properties={}), type='RESIGNED', properties={}), Relationship(source=Node(id='John Tyler', type='Person', properties={}), target=Node(id='President', type='Position', properties={}), type='ASSUMED_PRESIDENCY', properties={}), Relationship(source=Node(id='Alexander Hamilton', type='Person', properties={}), target=Node(id='Political Factions', type='Concept', properties={}), type='RALLIED_AROUND', properties={}), Relationship(source=Node(id='Thomas Jefferson', type='Person', properties={}), target=Node(id='Political Factions', type='Concept', properties={}), type='RALLIED_AROUND', properties={}), Relationship(source=Node(id='George Washington', type='Person', properties={}), target=Node(id='Political Factions', type='Concept', properties={}), type='UNAFFILIATED', properties={})], source=Document(metadata={'title': 'List of presidents of the United States', 'summary': 'The president of the United States is the head of state and head of government of the United States, indirectly elected to a four-year term via the Electoral College. Under the U.S. Constitution, the officeholder leads the executive branch of the federal government and is the commander-in-chief of the United States Armed Forces. The first president, George Washington, won a unanimous vote of the Electoral College. The incumbent president is Donald Trump, who assumed office on January 20, 2025. Since the office was established in 1789, 45 men have served in 47 presidencies; the discrepancy arises from two individuals elected to non-consecutive terms: Grover Cleveland is counted as the 22nd and 24th president of the United States, while Donald Trump is counted as the 45th and 47th president.\\nThe presidency of William Henry Harrison, who died 31 days after taking office in 1841, was the shortest in American history. Franklin D. Roosevelt served the longest, over twelve years, before dying early in his fourth term in 1945. He is the only U.S. president to have served more than two terms. Since the ratification of the Twenty-second Amendment to the United States Constitution in 1951, no person may be elected president more than twice, and no one who has served more than two years of a term to which someone else was elected may be elected more than once.\\nFour presidents died in office of natural causes (William Henry Harrison, Zachary Taylor, Warren G. Harding, and Franklin D. Roosevelt), four were assassinated (Abraham Lincoln, James A. Garfield, William McKinley, and John F. Kennedy), and one resigned (Richard Nixon, facing impeachment and removal from office). John Tyler was the first vice president to assume the presidency during a presidential term, setting the precedent that a vice president who does so becomes the fully functioning president with a new, distinct administration.\\nThroughout most of its history, American politics has been dominated by political parties. The Constitution is silent on the issue of political parties, and at the time it came into force in 1789, no organized parties existed. Soon after the 1st Congress convened, political factions began rallying around dominant Washington administration officials, such as Alexander Hamilton and Thomas Jefferson. Concerned about the capacity of political parties to destroy the fragile unity holding the nation together, Washington remained unaffiliated with any political faction or party throughout his eight-year presidency. He was, and remains, the only U.S. president who never affiliated with a political party.', 'source': 'https://en.wikipedia.org/wiki/List_of_presidents_of_the_United_States'}, page_content='The president of the United States is the head of state and head of government of the United States, indirectly elected to a four-year term via the Electoral College. Under the U.S. Constitution, the officeholder leads the executive branch of the federal government and is the commander-in-chief of the United States Armed Forces. The first president, George Washington, won a unanimous vote of the Electoral College. The incumbent president is Donald Trump, who assumed office on January 20, 2025. Since the office was established in 1789, 45 men have served in 47 presidencies; the discrepancy arises from two individuals elected to non-consecutive terms: Grover Cleveland is counted as the 22nd and 24th president of the United States, while Donald Trump is counted as the 45th and 47th president.\\nThe presidency of William Henry Harrison, who died 31 days after taking office in 1841, was the shortest in American history. Franklin D. Roosevelt served the longest, over twelve years, before dying early in his fourth term in 1945. He is the only U.S. president to have served more than two terms. Since the ratification of the Twenty-second Amendment to the United States Constitution in 1951, no person may be elected president more than twice, and no one who has served more than two years of a term to which someone else was elected may be elected more than once.\\nFour presidents died in office of natural causes (William Henry Harrison, Zachary Taylor, Warren G. Harding, and Franklin D. Roosevelt), four were assassinated (Abraham Lincoln, James A. Garfield, William McKinley, and John F. Kennedy), and one resigned (Richard Nixon, facing impeachment and removal from office). John Tyler was the first vice president to assume the presidency during a presidential term, setting the precedent that a vice president who does so becomes the fully functioning president with a new, distinct administration.\\nThroughout most of its history, American politics has been dominated by political parties. The Constitution is silent on the issue of political parties, and at the time it came into force in 1789, no organized parties existed. Soon after the 1st Congress convened, political factions began rallying around dominant Washington administration officials, such as Alexander Hamilton and Thomas Jefferson. Concerned about the capacity of political parties to destroy the fragile unity holding the nation together, Washington remained unaffiliated with any political faction or party throughout his eight-year presidency. He was, and remains, the only U.S. president who never affiliated with a political party')),\n",
              " GraphDocument(nodes=[Node(id='U.S. President', type='Person', properties={})], relationships=[Relationship(source=Node(id='U.S. President', type='Person', properties={}), target=Node(id='Political Party', type='Concept', properties={}), type='NEVER_AFFILIATED_WITH', properties={})], source=Document(metadata={'title': 'List of presidents of the United States', 'summary': 'The president of the United States is the head of state and head of government of the United States, indirectly elected to a four-year term via the Electoral College. Under the U.S. Constitution, the officeholder leads the executive branch of the federal government and is the commander-in-chief of the United States Armed Forces. The first president, George Washington, won a unanimous vote of the Electoral College. The incumbent president is Donald Trump, who assumed office on January 20, 2025. Since the office was established in 1789, 45 men have served in 47 presidencies; the discrepancy arises from two individuals elected to non-consecutive terms: Grover Cleveland is counted as the 22nd and 24th president of the United States, while Donald Trump is counted as the 45th and 47th president.\\nThe presidency of William Henry Harrison, who died 31 days after taking office in 1841, was the shortest in American history. Franklin D. Roosevelt served the longest, over twelve years, before dying early in his fourth term in 1945. He is the only U.S. president to have served more than two terms. Since the ratification of the Twenty-second Amendment to the United States Constitution in 1951, no person may be elected president more than twice, and no one who has served more than two years of a term to which someone else was elected may be elected more than once.\\nFour presidents died in office of natural causes (William Henry Harrison, Zachary Taylor, Warren G. Harding, and Franklin D. Roosevelt), four were assassinated (Abraham Lincoln, James A. Garfield, William McKinley, and John F. Kennedy), and one resigned (Richard Nixon, facing impeachment and removal from office). John Tyler was the first vice president to assume the presidency during a presidential term, setting the precedent that a vice president who does so becomes the fully functioning president with a new, distinct administration.\\nThroughout most of its history, American politics has been dominated by political parties. The Constitution is silent on the issue of political parties, and at the time it came into force in 1789, no organized parties existed. Soon after the 1st Congress convened, political factions began rallying around dominant Washington administration officials, such as Alexander Hamilton and Thomas Jefferson. Concerned about the capacity of political parties to destroy the fragile unity holding the nation together, Washington remained unaffiliated with any political faction or party throughout his eight-year presidency. He was, and remains, the only U.S. president who never affiliated with a political party.', 'source': 'https://en.wikipedia.org/wiki/List_of_presidents_of_the_United_States'}, page_content='-year presidency. He was, and remains, the only U.S. president who never affiliated with a political party.\\n\\n\\n== Presidents ==\\n\\n\\n== See also ==\\nActing President of the United States\\nFounding Fathers of the United States\\nList of vice presidents of the United States\\nPresident of the Continental Congress\\n\\n\\n== Notes ==\\n\\n\\n== References ==\\n\\n\\n== Works cited ==\\n\\n\\n== External links ==\\n Media related to President of the United States at Wikimedia Commons\\n Quotations related to List of presidents of the United States at Wikiquote')),\n",
              " GraphDocument(nodes=[Node(id='United States', type='Country', properties={}), Node(id='Vice President', type='Position', properties={}), Node(id='Jd Vance', type='Person', properties={}), Node(id='George Clinton', type='Person', properties={}), Node(id='John C. Calhoun', type='Person', properties={}), Node(id='Thomas Jefferson', type='Person', properties={}), Node(id='Aaron Burr', type='Person', properties={}), Node(id='George H. W. Bush', type='Person', properties={}), Node(id='Dick Cheney', type='Person', properties={}), Node(id='Kamala Harris', type='Person', properties={}), Node(id='Twelfth Amendment', type='Legislation', properties={}), Node(id='Twenty-Fifth Amendment', type='Legislation', properties={})], relationships=[Relationship(source=Node(id='Vice President', type='Position', properties={}), target=Node(id='United States', type='Country', properties={}), type='PART_OF', properties={}), Relationship(source=Node(id='Jd Vance', type='Person', properties={}), target=Node(id='Vice President', type='Position', properties={}), type='HOLD', properties={}), Relationship(source=Node(id='George Clinton', type='Person', properties={}), target=Node(id='Vice President', type='Position', properties={}), type='HOLD', properties={}), Relationship(source=Node(id='John C. Calhoun', type='Person', properties={}), target=Node(id='Vice President', type='Position', properties={}), type='HOLD', properties={}), Relationship(source=Node(id='Thomas Jefferson', type='Person', properties={}), target=Node(id='Twelfth Amendment', type='Legislation', properties={}), type='RELATED_TO', properties={}), Relationship(source=Node(id='Aaron Burr', type='Person', properties={}), target=Node(id='Twelfth Amendment', type='Legislation', properties={}), type='RELATED_TO', properties={}), Relationship(source=Node(id='George H. W. Bush', type='Person', properties={}), target=Node(id='Twenty-Fifth Amendment', type='Legislation', properties={}), type='ACTED_AS', properties={}), Relationship(source=Node(id='Dick Cheney', type='Person', properties={}), target=Node(id='Twenty-Fifth Amendment', type='Legislation', properties={}), type='ACTED_AS', properties={}), Relationship(source=Node(id='Kamala Harris', type='Person', properties={}), target=Node(id='Twenty-Fifth Amendment', type='Legislation', properties={}), type='ACTED_AS', properties={})], source=Document(metadata={'title': 'List of vice presidents of the United States', 'summary': 'The vice president of the United States is the second-highest officer in the executive branch of the United States federal government after the president of the United States. The vice president also serves as the president of the Senate and may choose to cast a tie-breaking vote on decisions made by the Senate. Vice presidents have exercised this latter power to varying extents over the years. Two vice presidents—George Clinton and John C. Calhoun—served under more than one president.\\nThe incumbent vice president is JD Vance, who assumed office as the 50th vice president on January 20, 2025.\\nThere have been 50 U.S. vice presidents since the office was created in 1789. Originally, the vice president was the person who received the second-most votes for president in the Electoral College. But after the election of 1800 produced a tie between Thomas Jefferson and Aaron Burr, requiring the House of Representatives to choose between them, lawmakers acted to prevent such a situation from recurring. The Twelfth Amendment was added to the Constitution in 1804, creating the current system where electors cast a separate ballot for the vice presidency.\\nThe vice president is the first person in the presidential line of succession—that is, they assume the presidency if the president dies, resigns, or is impeached and removed from office. Nine vice presidents have ascended to the presidency in this way. Also, several vice presidents have gone on to be elected as president in their own right.\\nBefore adoption of the Twenty-fifth Amendment in 1967, an intra-term vacancy in the office of the vice president could not be filled until the next post-election inauguration. Several such vacancies occurred: seven vice presidents died, one resigned and eight succeeded to the presidency. This amendment allowed for a vacancy to be filled through appointment by the president and confirmation by both chambers of Congress. Since its ratification, the vice presidency has been vacant twice (both in the context of scandals surrounding the Nixon administration) and was filled both times through this process. The amendment also established a procedure whereby a vice president may, if the president is unable to discharge the powers and duties of the office, temporarily assume the powers and duties of the office as acting president. Three vice presidents have briefly acted as president under the 25th Amendment: George H. W. Bush on July 13, 1985; Dick Cheney on June 29, 2002, and on July 21, 2007; and Kamala Harris on November 19, 2021.', 'source': 'https://en.wikipedia.org/wiki/List_of_vice_presidents_of_the_United_States'}, page_content='The vice president of the United States is the second-highest officer in the executive branch of the United States federal government after the president of the United States. The vice president also serves as the president of the Senate and may choose to cast a tie-breaking vote on decisions made by the Senate. Vice presidents have exercised this latter power to varying extents over the years. Two vice presidents—George Clinton and John C. Calhoun—served under more than one president.\\nThe incumbent vice president is JD Vance, who assumed office as the 50th vice president on January 20, 2025.\\nThere have been 50 U.S. vice presidents since the office was created in 1789. Originally, the vice president was the person who received the second-most votes for president in the Electoral College. But after the election of 1800 produced a tie between Thomas Jefferson and Aaron Burr, requiring the House of Representatives to choose between them, lawmakers acted to prevent such a situation from recurring. The Twelfth Amendment was added to the Constitution in 1804, creating the current system where electors cast a separate ballot for the vice presidency.\\nThe vice president is the first person in the presidential line of succession—that is, they assume the presidency if the president dies, resigns, or is impeached and removed from office. Nine vice presidents have ascended to the presidency in this way. Also, several vice presidents have gone on to be elected as president in their own right.\\nBefore adoption of the Twenty-fifth Amendment in 1967, an intra-term vacancy in the office of the vice president could not be filled until the next post-election inauguration. Several such vacancies occurred: seven vice presidents died, one resigned and eight succeeded to the presidency. This amendment allowed for a vacancy to be filled through appointment by the president and confirmation by both chambers of Congress. Since its ratification, the vice presidency has been vacant twice (both in the context of scandals surrounding the Nixon administration) and was filled both times through this process. The amendment also established a procedure whereby a vice president may, if the president is unable to discharge the powers and duties of the office, temporarily assume the powers and duties of the office as acting president. Three vice presidents have briefly acted as president under the 25th Amendment: George H. W. Bush on July 13, 1985; Dick Cheney on June 29, 2002, and on July 21, 2007; and Kamala Harris on November 19, 2021.\\n\\n\\n== Vice presidents ==\\n\\n\\n== See also ==\\nActing President of the United')),\n",
              " GraphDocument(nodes=[Node(id='Vice Presidents', type='Concept', properties={}), Node(id='Acting President Of The United States', type='Concept', properties={}), Node(id='Founding Fathers Of The United States', type='Concept', properties={}), Node(id='List Of Presidents Of The United States', type='Concept', properties={}), Node(id='Presiding Officer Of The United States Senate', type='Concept', properties={}), Node(id='United States Senate Vice Presidential Bust Collection', type='Concept', properties={})], relationships=[Relationship(source=Node(id='Vice Presidents', type='Concept', properties={}), target=Node(id='Acting President Of The United States', type='Concept', properties={}), type='SEE_ALSO', properties={}), Relationship(source=Node(id='Vice Presidents', type='Concept', properties={}), target=Node(id='Founding Fathers Of The United States', type='Concept', properties={}), type='SEE_ALSO', properties={}), Relationship(source=Node(id='Vice Presidents', type='Concept', properties={}), target=Node(id='List Of Presidents Of The United States', type='Concept', properties={}), type='SEE_ALSO', properties={}), Relationship(source=Node(id='Vice Presidents', type='Concept', properties={}), target=Node(id='Presiding Officer Of The United States Senate', type='Concept', properties={}), type='SEE_ALSO', properties={}), Relationship(source=Node(id='Vice Presidents', type='Concept', properties={}), target=Node(id='United States Senate Vice Presidential Bust Collection', type='Concept', properties={}), type='SEE_ALSO', properties={})], source=Document(metadata={'title': 'List of vice presidents of the United States', 'summary': 'The vice president of the United States is the second-highest officer in the executive branch of the United States federal government after the president of the United States. The vice president also serves as the president of the Senate and may choose to cast a tie-breaking vote on decisions made by the Senate. Vice presidents have exercised this latter power to varying extents over the years. Two vice presidents—George Clinton and John C. Calhoun—served under more than one president.\\nThe incumbent vice president is JD Vance, who assumed office as the 50th vice president on January 20, 2025.\\nThere have been 50 U.S. vice presidents since the office was created in 1789. Originally, the vice president was the person who received the second-most votes for president in the Electoral College. But after the election of 1800 produced a tie between Thomas Jefferson and Aaron Burr, requiring the House of Representatives to choose between them, lawmakers acted to prevent such a situation from recurring. The Twelfth Amendment was added to the Constitution in 1804, creating the current system where electors cast a separate ballot for the vice presidency.\\nThe vice president is the first person in the presidential line of succession—that is, they assume the presidency if the president dies, resigns, or is impeached and removed from office. Nine vice presidents have ascended to the presidency in this way. Also, several vice presidents have gone on to be elected as president in their own right.\\nBefore adoption of the Twenty-fifth Amendment in 1967, an intra-term vacancy in the office of the vice president could not be filled until the next post-election inauguration. Several such vacancies occurred: seven vice presidents died, one resigned and eight succeeded to the presidency. This amendment allowed for a vacancy to be filled through appointment by the president and confirmation by both chambers of Congress. Since its ratification, the vice presidency has been vacant twice (both in the context of scandals surrounding the Nixon administration) and was filled both times through this process. The amendment also established a procedure whereby a vice president may, if the president is unable to discharge the powers and duties of the office, temporarily assume the powers and duties of the office as acting president. Three vice presidents have briefly acted as president under the 25th Amendment: George H. W. Bush on July 13, 1985; Dick Cheney on June 29, 2002, and on July 21, 2007; and Kamala Harris on November 19, 2021.', 'source': 'https://en.wikipedia.org/wiki/List_of_vice_presidents_of_the_United_States'}, page_content=' November 19, 2021.\\n\\n\\n== Vice presidents ==\\n\\n\\n== See also ==\\nActing President of the United States\\nFounding Fathers of the United States\\nList of presidents of the United States\\nPresiding Officer of the United States Senate\\nUnited States Senate Vice Presidential Bust Collection\\n\\n\\n== Notes ==\\n\\n\\n== References ==\\n\\n\\n== Works cited ==')),\n",
              " GraphDocument(nodes=[Node(id='United States', type='Country', properties={}), Node(id='George Washington', type='Person', properties={}), Node(id='James Monroe', type='Person', properties={}), Node(id='Andrew Jackson', type='Person', properties={}), Node(id='Martin Van Buren', type='Person', properties={}), Node(id='William Henry Harrison', type='Person', properties={}), Node(id='Zachary Taylor', type='Person', properties={}), Node(id='Millard Fillmore', type='Person', properties={}), Node(id='Abraham Lincoln', type='Person', properties={}), Node(id='Andrew Johnson', type='Person', properties={}), Node(id='Grover Cleveland', type='Person', properties={}), Node(id='William Mckinley', type='Person', properties={}), Node(id='Harry S. Truman', type='Person', properties={}), Node(id='John Quincy Adams', type='Person', properties={}), Node(id='Bill Clinton', type='Person', properties={}), Node(id='Leiden University', type='University', properties={}), Node(id='College Of William & Mary', type='University', properties={}), Node(id='Hampden Sydney College', type='University', properties={}), Node(id='University Of Pennsylvania School Of Medicine', type='University', properties={}), Node(id='University At Buffalo', type='University', properties={}), Node(id='Allegheny College', type='University', properties={}), Node(id='Albany Law School', type='University', properties={}), Node(id='University Of Oxford', type='University', properties={}), Node(id='Yale Law School', type='University', properties={})], relationships=[Relationship(source=Node(id='George Washington', type='Person', properties={}), target=Node(id='College Of William & Mary', type='University', properties={}), type='ATTENDED', properties={}), Relationship(source=Node(id='James Monroe', type='Person', properties={}), target=Node(id='College Of William & Mary', type='University', properties={}), type='ATTENDED', properties={}), Relationship(source=Node(id='William Henry Harrison', type='Person', properties={}), target=Node(id='Hampden Sydney College', type='University', properties={}), type='ATTENDED', properties={}), Relationship(source=Node(id='William Henry Harrison', type='Person', properties={}), target=Node(id='University Of Pennsylvania School Of Medicine', type='University', properties={}), type='ATTENDED', properties={}), Relationship(source=Node(id='Millard Fillmore', type='Person', properties={}), target=Node(id='University At Buffalo', type='University', properties={}), type='FOUNDED', properties={}), Relationship(source=Node(id='William Mckinley', type='Person', properties={}), target=Node(id='Allegheny College', type='University', properties={}), type='ATTENDED', properties={}), Relationship(source=Node(id='William Mckinley', type='Person', properties={}), target=Node(id='Albany Law School', type='University', properties={}), type='ATTENDED', properties={}), Relationship(source=Node(id='Harry S. Truman', type='Person', properties={}), target=Node(id='Business College', type='College', properties={}), type='ATTENDED', properties={}), Relationship(source=Node(id='John Quincy Adams', type='Person', properties={}), target=Node(id='Leiden University', type='University', properties={}), type='ATTENDED', properties={}), Relationship(source=Node(id='Bill Clinton', type='Person', properties={}), target=Node(id='University Of Oxford', type='University', properties={}), type='ATTENDED', properties={}), Relationship(source=Node(id='Bill Clinton', type='Person', properties={}), target=Node(id='Yale Law School', type='University', properties={}), type='ATTENDED', properties={})], source=Document(metadata={'title': 'List of presidents of the United States by education', 'summary': \"Most presidents of the United States received a college education, even most of the earliest. Of the first seven presidents, five were college graduates. College degrees have set the presidents apart from the general population, and presidents have held degrees even though it was quite rare and unnecessary for practicing most occupations, including law. Of the 45 individuals to have been the president, 24 graduated from a private undergraduate college, 9 graduated from a public undergraduate college, and 12 held no degree.  Every president since 1953 has had a bachelor's degree, reflecting the increasing importance of higher education in the United States.\", 'source': 'https://en.wikipedia.org/wiki/List_of_presidents_of_the_United_States_by_education'}, page_content=\"Most presidents of the United States received a college education, even most of the earliest. Of the first seven presidents, five were college graduates. College degrees have set the presidents apart from the general population, and presidents have held degrees even though it was quite rare and unnecessary for practicing most occupations, including law. Of the 45 individuals to have been the president, 24 graduated from a private undergraduate college, 9 graduated from a public undergraduate college, and 12 held no degree.  Every president since 1953 has had a bachelor's degree, reflecting the increasing importance of higher education in the United States.\\n\\n\\n== List by university attended ==\\n\\n\\n=== Did not graduate from college ===\\nGeorge Washington (The death of Washington's father ended his formal schooling. The College of William & Mary issued surveying licenses in Virginia, and Washington received his license from the College in 1749 — surveyors did not attend classes at the school. Washington believed strongly in formal education, and his will left money and/or stocks to support three educational institutions, including George Washington University and Washington and Lee University)\\nJames Monroe (attended the College of William & Mary, but dropped out to fight in the Revolutionary War)\\nAndrew Jackson\\nMartin Van Buren\\nWilliam Henry Harrison (attended Hampden Sydney College for three years but did not graduate and then attended University of Pennsylvania School of Medicine but never received a degree)\\nZachary Taylor\\nMillard Fillmore (founded the University at Buffalo)\\nAbraham Lincoln (had only about a year of formal schooling of any kind)\\nAndrew Johnson  (no formal schooling of any kind)\\nGrover Cleveland\\nWilliam McKinley (attended Allegheny College, but did not graduate; also attended Albany Law School, but also did not graduate)\\nHarry S. Truman (went to business college and law school, but did not graduate)\\n\\n\\n=== Undergraduate ===\\n\\n\\n==== Additional undergraduate information ====\\nSome presidents attended more than one institution. George Washington never attended college, though The College of William & Mary did issue him a surveyor's certificate. One president attended a foreign college at the undergraduate level: John Quincy Adams at Leiden University (John F. Kennedy intended to study at the London School of Economics, but failed to attend as he fell ill before classes began.) Bill Clinton won a Rhodes Scholarship, enrolling at the University of Oxford in Fall 1968, where he read for a B.Phil in politics. He left Oxford without earning a degree in order to enroll at Yale Law School.\")),\n",
              " GraphDocument(nodes=[Node(id='Oxford', type='University', properties={}), Node(id='Yale Law School', type='Graduate school', properties={}), Node(id='Ulysses S. Grant', type='Person', properties={}), Node(id='Dwight D. Eisenhower', type='Person', properties={}), Node(id='Jimmy Carter', type='Person', properties={}), Node(id='United States Military Academy At West Point', type='Military academy', properties={}), Node(id='United States Naval Academy At Annapolis, Maryland', type='Military academy', properties={}), Node(id='United States Coast Guard Academy', type='Military academy', properties={}), Node(id='U.S. Air Force Academy', type='Military academy', properties={}), Node(id='Army Command And General Staff College', type='Military school', properties={}), Node(id='Army Industrial College', type='Military school', properties={}), Node(id='Army War College', type='Military school', properties={}), Node(id='John Adams', type='Person', properties={}), Node(id='Thomas Jefferson', type='Person', properties={})], relationships=[Relationship(source=Node(id='Oxford', type='University', properties={}), target=Node(id='Yale Law School', type='Graduate school', properties={}), type='ENROLLED_IN', properties={}), Relationship(source=Node(id='Ulysses S. Grant', type='Person', properties={}), target=Node(id='United States Military Academy At West Point', type='Military academy', properties={}), type='GRADUATED_FROM', properties={}), Relationship(source=Node(id='Dwight D. Eisenhower', type='Person', properties={}), target=Node(id='United States Military Academy At West Point', type='Military academy', properties={}), type='GRADUATED_FROM', properties={}), Relationship(source=Node(id='Jimmy Carter', type='Person', properties={}), target=Node(id='United States Naval Academy At Annapolis, Maryland', type='Military academy', properties={}), type='GRADUATED_FROM', properties={}), Relationship(source=Node(id='Dwight D. Eisenhower', type='Person', properties={}), target=Node(id='Army Command And General Staff College', type='Military school', properties={}), type='ATTENDED', properties={}), Relationship(source=Node(id='Dwight D. Eisenhower', type='Person', properties={}), target=Node(id='Army Industrial College', type='Military school', properties={}), type='ATTENDED', properties={}), Relationship(source=Node(id='Dwight D. Eisenhower', type='Person', properties={}), target=Node(id='Army War College', type='Military school', properties={}), type='ATTENDED', properties={}), Relationship(source=Node(id='United States Coast Guard Academy', type='Military academy', properties={}), target=Node(id='Person', type='Person', properties={}), type='NO_GRADUATES', properties={}), Relationship(source=Node(id='U.S. Air Force Academy', type='Military academy', properties={}), target=Node(id='Person', type='Person', properties={}), type='NO_GRADUATES', properties={}), Relationship(source=Node(id='John Adams', type='Person', properties={}), target=Node(id='Law School', type='Graduate school', properties={}), type='DID_NOT_ATTEND', properties={}), Relationship(source=Node(id='Thomas Jefferson', type='Person', properties={}), target=Node(id='Law School', type='Graduate school', properties={}), type='DID_NOT_ATTEND', properties={})], source=Document(metadata={'title': 'List of presidents of the United States by education', 'summary': \"Most presidents of the United States received a college education, even most of the earliest. Of the first seven presidents, five were college graduates. College degrees have set the presidents apart from the general population, and presidents have held degrees even though it was quite rare and unnecessary for practicing most occupations, including law. Of the 45 individuals to have been the president, 24 graduated from a private undergraduate college, 9 graduated from a public undergraduate college, and 12 held no degree.  Every president since 1953 has had a bachelor's degree, reflecting the increasing importance of higher education in the United States.\", 'source': 'https://en.wikipedia.org/wiki/List_of_presidents_of_the_United_States_by_education'}, page_content=' for a B.Phil in politics. He left Oxford without earning a degree in order to enroll at Yale Law School.   \\nThree presidents have attended the United States Service academies: Ulysses S. Grant and Dwight D. Eisenhower graduated from the United States Military Academy at West Point, while Jimmy Carter graduated from the United States Naval Academy at Annapolis, Maryland. No presidents have graduated from the United States Coast Guard Academy or the much newer U.S. Air Force Academy.  Eisenhower also graduated from the Army Command and General Staff College, Army Industrial College and Army War College. These were not degree-granting institutions when Eisenhower attended, but were part of his professional education as a career soldier.\\n\\n\\n=== Graduate school ===\\nA total of 21 presidents attended some form of graduate school (including professional schools). Among them, eleven presidents received a graduate degree during their lifetimes; two more received graduate degrees posthumously.\\n\\n\\n==== Business school ====\\n\\n\\n==== Graduate school ====\\n\\n\\n==== Medical school ====\\n\\n\\n==== Law school ====\\n\\nSeveral presidents who were lawyers did not attend law school, but became lawyers after independent study under the tutelage of established attorneys. Some had attended college before beginning their legal studies, and several studied law without first having attended college.  Presidents who were lawyers but did not attend law school include: John Adams; Thomas J'))]"
            ]
          },
          "metadata": {},
          "execution_count": 128
        }
      ]
    },
    {
      "cell_type": "code",
      "source": [
        "graph.add_graph_documents(\n",
        "    graph_documents,\n",
        "    baseEntityLabel=True,\n",
        "    include_source=True\n",
        ")"
      ],
      "metadata": {
        "id": "krafyRHVN7n0"
      },
      "execution_count": 129,
      "outputs": []
    },
    {
      "cell_type": "code",
      "source": [
        "default_cypher = \"MATCH (s)-[r:!MENTIONS]->(t) RETURN s,r,t LIMIT 50\""
      ],
      "metadata": {
        "id": "Q_cIaWDQOGCw"
      },
      "execution_count": 130,
      "outputs": []
    },
    {
      "cell_type": "code",
      "source": [
        "from yfiles_jupyter_graphs import GraphWidget\n",
        "from neo4j import GraphDatabase"
      ],
      "metadata": {
        "id": "dNHu2JyaOOUq"
      },
      "execution_count": 131,
      "outputs": []
    },
    {
      "cell_type": "code",
      "source": [
        "try:\n",
        "  import google.colab\n",
        "  from google.colab import output\n",
        "  output.enable_custom_widget_manager()\n",
        "except:\n",
        "  pass"
      ],
      "metadata": {
        "id": "_ja05QwCOR9U"
      },
      "execution_count": 132,
      "outputs": []
    },
    {
      "cell_type": "code",
      "source": [
        "\n",
        "def showGraph(cypher: str = default_cypher):\n",
        "    # create a neo4j session to run queries\n",
        "    driver = GraphDatabase.driver(\n",
        "        uri = os.environ[\"NEO4J_URI\"],\n",
        "        auth = (os.environ[\"NEO4J_USERNAME\"],\n",
        "                os.environ[\"NEO4J_PASSWORD\"]))\n",
        "    session = driver.session()\n",
        "    widget = GraphWidget(graph = session.run(cypher).graph())\n",
        "    widget.node_label_mapping = 'id'\n",
        "    display(widget)\n",
        "    return widget"
      ],
      "metadata": {
        "id": "FoKHPvHOOT1S"
      },
      "execution_count": 133,
      "outputs": []
    },
    {
      "cell_type": "code",
      "source": [
        "showGraph()"
      ],
      "metadata": {
        "colab": {
          "base_uri": "https://localhost:8080/",
          "height": 1000,
          "referenced_widgets": [
            "039378d0f97149d1884c21aeccd4e6f4",
            "8be139b63c24422fbeb84d2f3a4f01be"
          ]
        },
        "id": "-LxT0uHrOWBF",
        "outputId": "8ec59fe5-bbfb-4036-9996-fc9d57650c2f"
      },
      "execution_count": 134,
      "outputs": [
        {
          "output_type": "display_data",
          "data": {
            "text/plain": [
              "GraphWidget(layout=Layout(height='800px', width='100%'))"
            ],
            "application/vnd.jupyter.widget-view+json": {
              "version_major": 2,
              "version_minor": 0,
              "model_id": "039378d0f97149d1884c21aeccd4e6f4"
            }
          },
          "metadata": {
            "application/vnd.jupyter.widget-view+json": {
              "colab": {
                "custom_widget_manager": {
                  "url": "https://ssl.gstatic.com/colaboratory-static/widgets/colab-cdn-widget-manager/2b70e893a8ba7c0f/manager.min.js"
                }
              }
            }
          }
        },
        {
          "output_type": "display_data",
          "data": {
            "text/plain": [
              "GraphWidget(layout=Layout(height='800px', width='100%'))"
            ],
            "application/vnd.jupyter.widget-view+json": {
              "version_major": 2,
              "version_minor": 0,
              "model_id": "039378d0f97149d1884c21aeccd4e6f4"
            }
          },
          "metadata": {
            "application/vnd.jupyter.widget-view+json": {
              "colab": {
                "custom_widget_manager": {
                  "url": "https://ssl.gstatic.com/colaboratory-static/widgets/colab-cdn-widget-manager/2b70e893a8ba7c0f/manager.min.js"
                }
              }
            }
          }
        }
      ]
    }
  ]
}